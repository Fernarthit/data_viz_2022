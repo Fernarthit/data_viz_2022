{
  "nbformat": 4,
  "nbformat_minor": 0,
  "metadata": {
    "colab": {
      "name": "Data Structure.ipynb",
      "provenance": [],
      "authorship_tag": "ABX9TyP/++8oETjq+0wF8rboDkpp",
      "include_colab_link": true
    },
    "kernelspec": {
      "name": "python3",
      "display_name": "Python 3"
    },
    "language_info": {
      "name": "python"
    }
  },
  "cells": [
    {
      "cell_type": "markdown",
      "metadata": {
        "id": "view-in-github",
        "colab_type": "text"
      },
      "source": [
        "<a href=\"https://colab.research.google.com/github/Fernarthit/data_viz_2022/blob/main/Data_Structure.ipynb\" target=\"_parent\"><img src=\"https://colab.research.google.com/assets/colab-badge.svg\" alt=\"Open In Colab\"/></a>"
      ]
    },
    {
      "cell_type": "markdown",
      "source": [
        "#Data Structure (โครงสร้างข้อมูล)\n",
        "##เก็บข้อมูลไว้ด้วยกันอย่างเป็นระเบียบ"
      ],
      "metadata": {
        "id": "gYtZirX66Pp-"
      }
    },
    {
      "cell_type": "markdown",
      "source": [
        "##LIst()\n",
        "- เป็นอะไรก็ได้\n",
        "- ลำดับในการเก็บมีความสำคัญ"
      ],
      "metadata": {
        "id": "3YwfY1I-6qyX"
      }
    },
    {
      "cell_type": "code",
      "execution_count": null,
      "metadata": {
        "id": "t0ePr4N56OlG"
      },
      "outputs": [],
      "source": [
        "List_a  = [1,2,3,4,5,6] # [] sq brackets"
      ]
    },
    {
      "cell_type": "code",
      "source": [
        "List_a"
      ],
      "metadata": {
        "colab": {
          "base_uri": "https://localhost:8080/"
        },
        "id": "HtZgbfC_6lit",
        "outputId": "3c7b7e0b-a1e3-490a-adb8-f67586142255"
      },
      "execution_count": null,
      "outputs": [
        {
          "output_type": "execute_result",
          "data": {
            "text/plain": [
              "[1, 2, 3, 4, 5, 6]"
            ]
          },
          "metadata": {},
          "execution_count": 5
        }
      ]
    },
    {
      "cell_type": "code",
      "source": [
        "List_b = ['ab' ,2,3.15,List_a]"
      ],
      "metadata": {
        "id": "ZIQTUhFf7H41"
      },
      "execution_count": null,
      "outputs": []
    },
    {
      "cell_type": "code",
      "source": [
        "List_b"
      ],
      "metadata": {
        "colab": {
          "base_uri": "https://localhost:8080/"
        },
        "id": "G_HnABo_7Skb",
        "outputId": "b8f4df4f-83e4-44e1-e0cd-57fdfc760d76"
      },
      "execution_count": null,
      "outputs": [
        {
          "output_type": "execute_result",
          "data": {
            "text/plain": [
              "['ab', 2, 3.15, [1, 2, 3, 4, 5, 6]]"
            ]
          },
          "metadata": {},
          "execution_count": 7
        }
      ]
    },
    {
      "cell_type": "markdown",
      "source": [
        "##indexing การชี้สมาชิกใน list ด้วยเลขลำดับของ list"
      ],
      "metadata": {
        "id": "kuv8m5Uf8PTy"
      }
    },
    {
      "cell_type": "code",
      "source": [
        "List_a[3]"
      ],
      "metadata": {
        "colab": {
          "base_uri": "https://localhost:8080/"
        },
        "id": "MjUhvJaV7Vcq",
        "outputId": "cfd03a73-90cc-445b-a82d-06ec315de27f"
      },
      "execution_count": null,
      "outputs": [
        {
          "output_type": "execute_result",
          "data": {
            "text/plain": [
              "4"
            ]
          },
          "metadata": {},
          "execution_count": 9
        }
      ]
    },
    {
      "cell_type": "code",
      "source": [
        "List_b[3]"
      ],
      "metadata": {
        "colab": {
          "base_uri": "https://localhost:8080/"
        },
        "id": "FQcZFr337qM6",
        "outputId": "8ed9a71d-6fac-407d-be83-8aa1467d77ed"
      },
      "execution_count": null,
      "outputs": [
        {
          "output_type": "execute_result",
          "data": {
            "text/plain": [
              "[1, 2, 3, 4, 5, 6]"
            ]
          },
          "metadata": {},
          "execution_count": 10
        }
      ]
    },
    {
      "cell_type": "code",
      "source": [
        "List_b[3][2]"
      ],
      "metadata": {
        "colab": {
          "base_uri": "https://localhost:8080/"
        },
        "id": "dvjIXe9V7vGJ",
        "outputId": "65c8f341-2252-4dcd-977e-429461869480"
      },
      "execution_count": null,
      "outputs": [
        {
          "output_type": "execute_result",
          "data": {
            "text/plain": [
              "3"
            ]
          },
          "metadata": {},
          "execution_count": 13
        }
      ]
    },
    {
      "cell_type": "code",
      "source": [
        "List_a[6] #ชี้ลำดับเกินใน list"
      ],
      "metadata": {
        "colab": {
          "base_uri": "https://localhost:8080/",
          "height": 178
        },
        "id": "9W1EL2xX8ER3",
        "outputId": "05d87609-d600-439a-a194-da10ef627a59"
      },
      "execution_count": null,
      "outputs": [
        {
          "output_type": "error",
          "ename": "IndexError",
          "evalue": "ignored",
          "traceback": [
            "\u001b[0;31m---------------------------------------------------------------------------\u001b[0m",
            "\u001b[0;31mIndexError\u001b[0m                                Traceback (most recent call last)",
            "\u001b[0;32m<ipython-input-15-a6f9ea7a1ac9>\u001b[0m in \u001b[0;36m<module>\u001b[0;34m()\u001b[0m\n\u001b[0;32m----> 1\u001b[0;31m \u001b[0mList_a\u001b[0m\u001b[0;34m[\u001b[0m\u001b[0;36m6\u001b[0m\u001b[0;34m]\u001b[0m \u001b[0;31m#ชี้ลำดับเกินใน list\u001b[0m\u001b[0;34m\u001b[0m\u001b[0;34m\u001b[0m\u001b[0m\n\u001b[0m",
            "\u001b[0;31mIndexError\u001b[0m: list index out of range"
          ]
        }
      ]
    },
    {
      "cell_type": "code",
      "source": [
        "List_a[-1] #Index -1 หมายถึงมีสมาชิกเยอะมาก -1คือตัวสุดท้ายของ list"
      ],
      "metadata": {
        "colab": {
          "base_uri": "https://localhost:8080/"
        },
        "id": "b2HaVU-L8jRr",
        "outputId": "628d45e6-a569-4848-9f5b-b8c0071993b2"
      },
      "execution_count": null,
      "outputs": [
        {
          "output_type": "execute_result",
          "data": {
            "text/plain": [
              "6"
            ]
          },
          "metadata": {},
          "execution_count": 17
        }
      ]
    },
    {
      "cell_type": "code",
      "source": [
        "List_a[-4] #เป็นลำดับที่ 4 นับจากข้างหลัง"
      ],
      "metadata": {
        "colab": {
          "base_uri": "https://localhost:8080/"
        },
        "id": "5oGHS1fZ8746",
        "outputId": "9d9688a5-0857-4f5e-afc1-f69a59eb42b4"
      },
      "execution_count": null,
      "outputs": [
        {
          "output_type": "execute_result",
          "data": {
            "text/plain": [
              "3"
            ]
          },
          "metadata": {},
          "execution_count": 19
        }
      ]
    },
    {
      "cell_type": "markdown",
      "source": [
        "##การสร้าง LIst()"
      ],
      "metadata": {
        "id": "u0_l9N_p9ibG"
      }
    },
    {
      "cell_type": "code",
      "source": [
        "List_x1 = [] #แบบที่ 1 สร้างสัญลักษณ์ list ขึ้นมา\n",
        "List_x2 = list() #แบบที่ 2"
      ],
      "metadata": {
        "id": "05N7QNUB9Ne6"
      },
      "execution_count": null,
      "outputs": []
    },
    {
      "cell_type": "code",
      "source": [
        "print(List_x1)\n",
        "print(List_x2)"
      ],
      "metadata": {
        "colab": {
          "base_uri": "https://localhost:8080/"
        },
        "id": "R6ad-3Kp9w37",
        "outputId": "f948f302-8dcf-4e51-9f54-1465a36ecc53"
      },
      "execution_count": null,
      "outputs": [
        {
          "output_type": "stream",
          "name": "stdout",
          "text": [
            "[]\n",
            "[]\n"
          ]
        }
      ]
    },
    {
      "cell_type": "markdown",
      "source": [
        "##เพิ่มสมาชิกเข้าไปใน list ด้วย append()"
      ],
      "metadata": {
        "id": "XS9WifMj-ft7"
      }
    },
    {
      "cell_type": "code",
      "source": [
        "List_x1.append(2)"
      ],
      "metadata": {
        "id": "rdlPSJp--QQr"
      },
      "execution_count": null,
      "outputs": []
    },
    {
      "cell_type": "code",
      "source": [
        "List_x1"
      ],
      "metadata": {
        "colab": {
          "base_uri": "https://localhost:8080/"
        },
        "id": "odSLNCbg-sAb",
        "outputId": "6fa119e8-87a0-485e-8ad0-1480b0fb0a78"
      },
      "execution_count": null,
      "outputs": [
        {
          "output_type": "execute_result",
          "data": {
            "text/plain": [
              "[2]"
            ]
          },
          "metadata": {},
          "execution_count": 27
        }
      ]
    },
    {
      "cell_type": "code",
      "source": [
        "List_x1.append(4)\n",
        "print(List_x1)"
      ],
      "metadata": {
        "colab": {
          "base_uri": "https://localhost:8080/"
        },
        "id": "qDzK0Ska-uFs",
        "outputId": "f11af501-4d57-48a2-94d0-1521f4ce830e"
      },
      "execution_count": null,
      "outputs": [
        {
          "output_type": "stream",
          "name": "stdout",
          "text": [
            "[2, 4]\n"
          ]
        }
      ]
    },
    {
      "cell_type": "code",
      "source": [
        "List_x1[0]"
      ],
      "metadata": {
        "colab": {
          "base_uri": "https://localhost:8080/"
        },
        "id": "wqq2tz0R_C4M",
        "outputId": "e74d1fe2-a592-4584-afe7-57167677e7c8"
      },
      "execution_count": null,
      "outputs": [
        {
          "output_type": "execute_result",
          "data": {
            "text/plain": [
              "2"
            ]
          },
          "metadata": {},
          "execution_count": 32
        }
      ]
    },
    {
      "cell_type": "code",
      "source": [
        "List_x1[-1]"
      ],
      "metadata": {
        "colab": {
          "base_uri": "https://localhost:8080/"
        },
        "id": "Pm0OEA93_Rmb",
        "outputId": "08fde63b-b91f-44ac-a2c7-c633edc101f4"
      },
      "execution_count": null,
      "outputs": [
        {
          "output_type": "execute_result",
          "data": {
            "text/plain": [
              "4"
            ]
          },
          "metadata": {},
          "execution_count": 33
        }
      ]
    },
    {
      "cell_type": "code",
      "source": [
        "List_x2"
      ],
      "metadata": {
        "colab": {
          "base_uri": "https://localhost:8080/"
        },
        "id": "Jf66pCoa_WeM",
        "outputId": "6954dd59-4af5-4657-edfb-01d09dbd7475"
      },
      "execution_count": null,
      "outputs": [
        {
          "output_type": "execute_result",
          "data": {
            "text/plain": [
              "[]"
            ]
          },
          "metadata": {},
          "execution_count": 34
        }
      ]
    },
    {
      "cell_type": "code",
      "source": [
        "List_x2.append( 'ha' )"
      ],
      "metadata": {
        "id": "4EsN5dPYBr75"
      },
      "execution_count": null,
      "outputs": []
    },
    {
      "cell_type": "code",
      "source": [
        "List_x2"
      ],
      "metadata": {
        "colab": {
          "base_uri": "https://localhost:8080/"
        },
        "id": "R4Bn2WmTB2so",
        "outputId": "bcb2f4d7-66d1-4530-8fb3-26b68f108c9e"
      },
      "execution_count": null,
      "outputs": [
        {
          "output_type": "execute_result",
          "data": {
            "text/plain": [
              "['ha', 'ha', 'ha', 'ha', 'ha']"
            ]
          },
          "metadata": {},
          "execution_count": 73
        }
      ]
    },
    {
      "cell_type": "code",
      "source": [
        "List_x1.append('ha')"
      ],
      "metadata": {
        "id": "FTPlYHSm_yCe"
      },
      "execution_count": null,
      "outputs": []
    },
    {
      "cell_type": "code",
      "source": [
        "List_x1"
      ],
      "metadata": {
        "colab": {
          "base_uri": "https://localhost:8080/"
        },
        "id": "AYAtZuPMAFgd",
        "outputId": "770be433-178f-44fa-a77f-b2d92a93a442"
      },
      "execution_count": null,
      "outputs": [
        {
          "output_type": "execute_result",
          "data": {
            "text/plain": [
              "['ha']"
            ]
          },
          "metadata": {},
          "execution_count": 76
        }
      ]
    },
    {
      "cell_type": "code",
      "source": [
        "List_x1.pop( ) #pop หมายถึง ลบตัวสุดท้ายออก"
      ],
      "metadata": {
        "colab": {
          "base_uri": "https://localhost:8080/",
          "height": 37
        },
        "id": "-pK_nNjtAJlt",
        "outputId": "2c46b9f3-0c18-4875-cf88-4a2e92a91a2d"
      },
      "execution_count": null,
      "outputs": [
        {
          "output_type": "execute_result",
          "data": {
            "application/vnd.google.colaboratory.intrinsic+json": {
              "type": "string"
            },
            "text/plain": [
              "'ha'"
            ]
          },
          "metadata": {},
          "execution_count": 77
        }
      ]
    },
    {
      "cell_type": "code",
      "source": [
        "List_x1"
      ],
      "metadata": {
        "colab": {
          "base_uri": "https://localhost:8080/"
        },
        "id": "0yvemn8RAQkd",
        "outputId": "d99e7066-6766-41de-c482-88d62375f48b"
      },
      "execution_count": null,
      "outputs": [
        {
          "output_type": "execute_result",
          "data": {
            "text/plain": [
              "[]"
            ]
          },
          "metadata": {},
          "execution_count": 78
        }
      ]
    },
    {
      "cell_type": "code",
      "source": [
        "List_x1.pop()\n",
        "print(List_x1)"
      ],
      "metadata": {
        "colab": {
          "base_uri": "https://localhost:8080/",
          "height": 197
        },
        "id": "tDKV_okZAT7N",
        "outputId": "2e03d403-a845-42a8-c424-84248c6387a1"
      },
      "execution_count": null,
      "outputs": [
        {
          "output_type": "error",
          "ename": "IndexError",
          "evalue": "ignored",
          "traceback": [
            "\u001b[0;31m---------------------------------------------------------------------------\u001b[0m",
            "\u001b[0;31mIndexError\u001b[0m                                Traceback (most recent call last)",
            "\u001b[0;32m<ipython-input-79-ad96585bce39>\u001b[0m in \u001b[0;36m<module>\u001b[0;34m()\u001b[0m\n\u001b[0;32m----> 1\u001b[0;31m \u001b[0mList_x1\u001b[0m\u001b[0;34m.\u001b[0m\u001b[0mpop\u001b[0m\u001b[0;34m(\u001b[0m\u001b[0;34m)\u001b[0m\u001b[0;34m\u001b[0m\u001b[0;34m\u001b[0m\u001b[0m\n\u001b[0m\u001b[1;32m      2\u001b[0m \u001b[0mprint\u001b[0m\u001b[0;34m(\u001b[0m\u001b[0mList_x1\u001b[0m\u001b[0;34m)\u001b[0m\u001b[0;34m\u001b[0m\u001b[0;34m\u001b[0m\u001b[0m\n",
            "\u001b[0;31mIndexError\u001b[0m: pop from empty list"
          ]
        }
      ]
    },
    {
      "cell_type": "markdown",
      "source": [
        "##len() ตรวจสอบจำนวนสมาชิกของ list"
      ],
      "metadata": {
        "id": "I0EgDAbiB_T5"
      }
    },
    {
      "cell_type": "code",
      "source": [
        "print(List_b)\n",
        "print(len(List_b))"
      ],
      "metadata": {
        "colab": {
          "base_uri": "https://localhost:8080/"
        },
        "id": "99wFmoD1BTFv",
        "outputId": "34b85070-fbfe-4cb6-8ddd-d15d0862c8ce"
      },
      "execution_count": null,
      "outputs": [
        {
          "output_type": "stream",
          "name": "stdout",
          "text": [
            "['ab', 2, 3.15, [1, 2, 3, 4, 5, 6]]\n",
            "4\n"
          ]
        }
      ]
    },
    {
      "cell_type": "code",
      "source": [
        "len(List_a) #จำนวนสมาชิกของ list a"
      ],
      "metadata": {
        "colab": {
          "base_uri": "https://localhost:8080/"
        },
        "id": "74DaC40GCJRf",
        "outputId": "67f76ed1-015f-4e19-9864-235e5da8e0e3"
      },
      "execution_count": null,
      "outputs": [
        {
          "output_type": "execute_result",
          "data": {
            "text/plain": [
              "6"
            ]
          },
          "metadata": {},
          "execution_count": 83
        }
      ]
    },
    {
      "cell_type": "markdown",
      "source": [
        "#String is a list of characters"
      ],
      "metadata": {
        "id": "FH9e7Q_FCf6-"
      }
    },
    {
      "cell_type": "code",
      "source": [
        "st_stat = 'Department of Statistics,  Faculty of Science'"
      ],
      "metadata": {
        "id": "PRY3zsmPCpQu"
      },
      "execution_count": null,
      "outputs": []
    },
    {
      "cell_type": "code",
      "source": [
        "st_stat[11]  #ตัวอักษรที่ 11 คือ"
      ],
      "metadata": {
        "colab": {
          "base_uri": "https://localhost:8080/",
          "height": 37
        },
        "id": "yybXhqokDC6f",
        "outputId": "b1c5b3b7-c4b8-42e2-d7f3-d44eca7aedfc"
      },
      "execution_count": null,
      "outputs": [
        {
          "output_type": "execute_result",
          "data": {
            "application/vnd.google.colaboratory.intrinsic+json": {
              "type": "string"
            },
            "text/plain": [
              "'o'"
            ]
          },
          "metadata": {},
          "execution_count": 92
        }
      ]
    },
    {
      "cell_type": "code",
      "source": [
        "len(st_stat) #จำนวนตัวอักษรทั้งหมด"
      ],
      "metadata": {
        "colab": {
          "base_uri": "https://localhost:8080/"
        },
        "id": "ZGcOZZEUDG1-",
        "outputId": "6def7a0a-423e-486e-cae0-d92e47a1acc9"
      },
      "execution_count": null,
      "outputs": [
        {
          "output_type": "execute_result",
          "data": {
            "text/plain": [
              "45"
            ]
          },
          "metadata": {},
          "execution_count": 91
        }
      ]
    },
    {
      "cell_type": "markdown",
      "source": [
        "#List Slicing : "
      ],
      "metadata": {
        "id": "R7RdV9PWDd5i"
      }
    },
    {
      "cell_type": "markdown",
      "source": [
        "- List[จุดเริ่มต้น : จุดสุดท้าย]\n",
        "- List[จุดเริ่มต้น : จุดสุดท้าย : stop]\n",
        "- หน้า : ไม่ต้องใส่อะไรก็ได้ จะเริ่มนับตั้งแต่ 0 จนถึงตัวที่กำหนด"
      ],
      "metadata": {
        "id": "taJnp5zEEea0"
      }
    },
    {
      "cell_type": "code",
      "source": [
        "List_a"
      ],
      "metadata": {
        "colab": {
          "base_uri": "https://localhost:8080/"
        },
        "id": "z_q8m4LDDiDu",
        "outputId": "d765a248-a433-46d9-b754-b052a2a6d5bf"
      },
      "execution_count": null,
      "outputs": [
        {
          "output_type": "execute_result",
          "data": {
            "text/plain": [
              "[1, 2, 3, 4, 5, 6]"
            ]
          },
          "metadata": {},
          "execution_count": 93
        }
      ]
    },
    {
      "cell_type": "code",
      "source": [
        "List_a[3]"
      ],
      "metadata": {
        "colab": {
          "base_uri": "https://localhost:8080/"
        },
        "id": "pWOZ7dZPD0JR",
        "outputId": "f2a270f0-e87f-49de-fa71-9b2ab6728eea"
      },
      "execution_count": null,
      "outputs": [
        {
          "output_type": "execute_result",
          "data": {
            "text/plain": [
              "4"
            ]
          },
          "metadata": {},
          "execution_count": 94
        }
      ]
    },
    {
      "cell_type": "markdown",
      "source": [
        "## : colon"
      ],
      "metadata": {
        "id": "cYjvmi18G67F"
      }
    },
    {
      "cell_type": "code",
      "source": [
        "List_a[-6:-2] # จะไม่นับตัวสุดท้าย เช่น -6 : -2 ก็จะไม่มีลำดับที่ -2"
      ],
      "metadata": {
        "colab": {
          "base_uri": "https://localhost:8080/"
        },
        "id": "eQHgKh01D4a_",
        "outputId": "07f16abc-b777-4d19-f5ad-23baea1c8af0"
      },
      "execution_count": null,
      "outputs": [
        {
          "output_type": "execute_result",
          "data": {
            "text/plain": [
              "[1, 2, 3, 4]"
            ]
          },
          "metadata": {},
          "execution_count": 106
        }
      ]
    },
    {
      "cell_type": "code",
      "source": [
        "List_a[:3] #- หน้า : ไม่ต้องใส่อะไรก็ได้ จะเริ่มนับตั้งแต่ 0 จนถึงตัวที่กำหนด"
      ],
      "metadata": {
        "colab": {
          "base_uri": "https://localhost:8080/"
        },
        "id": "2nRZtkNzFmUH",
        "outputId": "0a66bd0b-74b8-4de2-aa3a-106298763cd3"
      },
      "execution_count": null,
      "outputs": [
        {
          "output_type": "execute_result",
          "data": {
            "text/plain": [
              "[1, 2, 3]"
            ]
          },
          "metadata": {},
          "execution_count": 107
        }
      ]
    },
    {
      "cell_type": "code",
      "source": [
        "List_a[:] #จะนับให้ทั้งหมด"
      ],
      "metadata": {
        "colab": {
          "base_uri": "https://localhost:8080/"
        },
        "id": "PZWENYAVGiNR",
        "outputId": "402c8940-db13-44db-b160-485247b3aff8"
      },
      "execution_count": null,
      "outputs": [
        {
          "output_type": "execute_result",
          "data": {
            "text/plain": [
              "[1, 2, 3, 4, 5, 6]"
            ]
          },
          "metadata": {},
          "execution_count": 109
        }
      ]
    },
    {
      "cell_type": "markdown",
      "source": [
        "##step"
      ],
      "metadata": {
        "id": "Qcqh3X0UGv5w"
      }
    },
    {
      "cell_type": "code",
      "source": [
        "List_c = [1,2,3,4,5,6,7,8,9,10,11,12,13]"
      ],
      "metadata": {
        "id": "E_F00h5gGmkz"
      },
      "execution_count": null,
      "outputs": []
    },
    {
      "cell_type": "code",
      "source": [
        "List_c[:11] #10ตัวแรก"
      ],
      "metadata": {
        "colab": {
          "base_uri": "https://localhost:8080/"
        },
        "id": "Y6a8BDJUHCVC",
        "outputId": "45376518-6407-42d3-adcb-946e2785e6aa"
      },
      "execution_count": null,
      "outputs": [
        {
          "output_type": "execute_result",
          "data": {
            "text/plain": [
              "[1, 2, 3, 4, 5, 6, 7, 8, 9, 10, 11]"
            ]
          },
          "metadata": {},
          "execution_count": 113
        }
      ]
    },
    {
      "cell_type": "code",
      "source": [
        "List_c[:10:]"
      ],
      "metadata": {
        "colab": {
          "base_uri": "https://localhost:8080/"
        },
        "id": "ZCx2UdYkHHxx",
        "outputId": "027ce896-6874-4314-b0f4-b5ad12277b0d"
      },
      "execution_count": null,
      "outputs": [
        {
          "output_type": "execute_result",
          "data": {
            "text/plain": [
              "[1, 2, 3, 4, 5, 6, 7, 8, 9, 10]"
            ]
          },
          "metadata": {},
          "execution_count": 114
        }
      ]
    },
    {
      "cell_type": "code",
      "source": [
        "List_c[:10:2] #ห่างกัน2ตัว"
      ],
      "metadata": {
        "colab": {
          "base_uri": "https://localhost:8080/"
        },
        "id": "iseqyI3PHZh0",
        "outputId": "fd5e2857-4295-41bf-fd6a-ce94f8fa27b8"
      },
      "execution_count": null,
      "outputs": [
        {
          "output_type": "execute_result",
          "data": {
            "text/plain": [
              "[1, 3, 5, 7, 9]"
            ]
          },
          "metadata": {},
          "execution_count": 116
        }
      ]
    },
    {
      "cell_type": "code",
      "source": [
        "List_c[::2] #iรันทุกตัว และห่างกัน 2 ตัว"
      ],
      "metadata": {
        "colab": {
          "base_uri": "https://localhost:8080/"
        },
        "id": "MylNQlcEHdTx",
        "outputId": "101a0283-5975-41cd-ed09-4bb2fc903f39"
      },
      "execution_count": null,
      "outputs": [
        {
          "output_type": "execute_result",
          "data": {
            "text/plain": [
              "[1, 3, 5, 7, 9, 11, 13]"
            ]
          },
          "metadata": {},
          "execution_count": 119
        }
      ]
    },
    {
      "cell_type": "markdown",
      "source": [
        "##range( )"
      ],
      "metadata": {
        "id": "7nke-CEQHzRx"
      }
    },
    {
      "cell_type": "code",
      "source": [
        "a = list(range(21))"
      ],
      "metadata": {
        "id": "sy39N7xAH4Zz"
      },
      "execution_count": null,
      "outputs": []
    },
    {
      "cell_type": "code",
      "source": [
        "a #list ของตัวเลขจำนวน 21 ตัว"
      ],
      "metadata": {
        "colab": {
          "base_uri": "https://localhost:8080/"
        },
        "id": "5vLulZd7IIhV",
        "outputId": "8bc51ac1-7991-4a90-a0bd-498b7bfaccae"
      },
      "execution_count": null,
      "outputs": [
        {
          "output_type": "execute_result",
          "data": {
            "text/plain": [
              "[0, 1, 2, 3, 4, 5, 6, 7, 8, 9, 10, 11, 12, 13, 14, 15, 16, 17, 18, 19, 20]"
            ]
          },
          "metadata": {},
          "execution_count": 125
        }
      ]
    },
    {
      "cell_type": "code",
      "source": [
        "list(range(1,21)) #จุดเริ่มต้นคือ 1 จุดสุดท้ายตำแหน่งที่ 21"
      ],
      "metadata": {
        "colab": {
          "base_uri": "https://localhost:8080/"
        },
        "id": "QjRhLVDIILgR",
        "outputId": "f9593e7a-cae1-4401-c31a-84059927bc54"
      },
      "execution_count": null,
      "outputs": [
        {
          "output_type": "execute_result",
          "data": {
            "text/plain": [
              "[1, 2, 3, 4, 5, 6, 7, 8, 9, 10, 11, 12, 13, 14, 15, 16, 17, 18, 19, 20]"
            ]
          },
          "metadata": {},
          "execution_count": 127
        }
      ]
    },
    {
      "cell_type": "markdown",
      "source": [
        "#HW2\n",
        "####คำนวณเวลาเป็นวินาทีของเวลาต่อไปนี้โดยใช้คำสั่ง split() ช่วย (print ออกมาให้สวยงาม)"
      ],
      "metadata": {
        "id": "IdnCsNEVI_2t"
      }
    },
    {
      "cell_type": "markdown",
      "source": [
        "- 12:30:15\n",
        "- 13:41:07\n",
        "- 09:11:50\n",
        "- 21:30:15\n",
        "- 03:10:15"
      ],
      "metadata": {
        "id": "jEjhG0vOJZGC"
      }
    },
    {
      "cell_type": "code",
      "source": [
        "#01:00:00\n",
        "\n",
        "a = 1*60*60\n",
        "print(a)"
      ],
      "metadata": {
        "colab": {
          "base_uri": "https://localhost:8080/"
        },
        "id": "24fpWi-CIh2i",
        "outputId": "2b1af535-8df2-479a-86e3-27dcc7ed8169"
      },
      "execution_count": null,
      "outputs": [
        {
          "output_type": "stream",
          "name": "stdout",
          "text": [
            "3600\n"
          ]
        }
      ]
    },
    {
      "cell_type": "code",
      "source": [
        "#12:30:15\n",
        "\n",
        "a = (12*60*60) + (30*60) + 15\n",
        "print(f'12:30:15 แปลงเป็นวินาทีได้ {a} วินาที')"
      ],
      "metadata": {
        "colab": {
          "base_uri": "https://localhost:8080/"
        },
        "id": "OCyoOP3kJv6T",
        "outputId": "e8b8f1f7-39ba-4c6e-ed33-edb9ace2a677"
      },
      "execution_count": null,
      "outputs": [
        {
          "output_type": "stream",
          "name": "stdout",
          "text": [
            "12:30:15 แปลงเป็นวินาทีได้ 45015 วินาที\n"
          ]
        }
      ]
    },
    {
      "cell_type": "code",
      "source": [
        "#13:41:07\n",
        "\n",
        "b = (13*60*60) + (41*60) + 7\n",
        "print(f'13:41:07 แปลงเป็นวินาทีได้ {b} วินาที')"
      ],
      "metadata": {
        "colab": {
          "base_uri": "https://localhost:8080/"
        },
        "id": "UIlEIYUiKHVj",
        "outputId": "3afde418-9205-4f8e-8ca6-49722599143e"
      },
      "execution_count": null,
      "outputs": [
        {
          "output_type": "stream",
          "name": "stdout",
          "text": [
            "13:41:07 แปลงเป็นวินาทีได้ 49267 วินาที\n"
          ]
        }
      ]
    },
    {
      "cell_type": "code",
      "source": [
        "#09:11:50\n",
        "\n",
        "c = (9*60*60) + (11*60) + 50\n",
        "print(f'09:11:50 แปลงเป็นวินาทีได้ {c} วินาที')"
      ],
      "metadata": {
        "colab": {
          "base_uri": "https://localhost:8080/"
        },
        "id": "eNeSNyjDKpCj",
        "outputId": "af164ac3-5259-4122-acd6-d6a2d9964d75"
      },
      "execution_count": null,
      "outputs": [
        {
          "output_type": "stream",
          "name": "stdout",
          "text": [
            "09:11:50 แปลงเป็นวินาทีได้ 33110 วินาที\n"
          ]
        }
      ]
    },
    {
      "cell_type": "code",
      "source": [
        "#21:30:15\n",
        "\n",
        "d = (21*60*60) + (30*60) + 15\n",
        "print(f'21:30:15 แปลงเป็นวินาทีได้ {d} วินาที')"
      ],
      "metadata": {
        "colab": {
          "base_uri": "https://localhost:8080/"
        },
        "id": "Jrn7zTJRLIYU",
        "outputId": "c80cb195-9598-4589-f0e5-8ca3c56938d0"
      },
      "execution_count": null,
      "outputs": [
        {
          "output_type": "stream",
          "name": "stdout",
          "text": [
            "21:30:15 แปลงเป็นวินาทีได้ 77415 วินาที\n"
          ]
        }
      ]
    },
    {
      "cell_type": "code",
      "source": [
        "#03:10:15\n",
        "\n",
        "e = (3*60*60) + (10*60) + 15\n",
        "print(f'03:30:15 แปลงเป็นวินาทีได้ {e} วินาที')"
      ],
      "metadata": {
        "colab": {
          "base_uri": "https://localhost:8080/"
        },
        "id": "jHaq_vJTLVPU",
        "outputId": "635d1101-8fad-4ec9-cce4-804036e5d312"
      },
      "execution_count": null,
      "outputs": [
        {
          "output_type": "stream",
          "name": "stdout",
          "text": [
            "03:30:15 แปลงเป็นวินาทีได้ 11415 วินาที\n"
          ]
        }
      ]
    },
    {
      "cell_type": "markdown",
      "source": [
        "#Dictionary\n",
        "- คล้าย list\n",
        "- index เป็นอะไรก็ได้ ไม่จำเป็นต้องเป็นตัวเลขลำดับ\n",
        "- ลำดับไม่มีความสำคัญ"
      ],
      "metadata": {
        "id": "ywrZmRlZOnhc"
      }
    },
    {
      "cell_type": "markdown",
      "source": [
        "##สร้าง Dictionary"
      ],
      "metadata": {
        "id": "5DOW3_5bQ7zs"
      }
    },
    {
      "cell_type": "code",
      "source": [
        "dict_a = {1: 'Happy' , 'N' : 'New' , '2022' :  'Year' } # {  } curly brackets"
      ],
      "metadata": {
        "id": "2lUXUAQuPce5"
      },
      "execution_count": null,
      "outputs": []
    },
    {
      "cell_type": "markdown",
      "source": [
        "###การชี้สมาชิกใน Dictionary"
      ],
      "metadata": {
        "id": "94cjWzgTRCaO"
      }
    },
    {
      "cell_type": "code",
      "source": [
        "dict_a[1]"
      ],
      "metadata": {
        "colab": {
          "base_uri": "https://localhost:8080/",
          "height": 37
        },
        "id": "00m3Y0ZjQhz3",
        "outputId": "3e8dce0f-d48e-44f7-a74c-2b45705b1b73"
      },
      "execution_count": null,
      "outputs": [
        {
          "output_type": "execute_result",
          "data": {
            "application/vnd.google.colaboratory.intrinsic+json": {
              "type": "string"
            },
            "text/plain": [
              "'Happy'"
            ]
          },
          "metadata": {},
          "execution_count": 6
        }
      ]
    },
    {
      "cell_type": "code",
      "source": [
        "dict_a['N']"
      ],
      "metadata": {
        "colab": {
          "base_uri": "https://localhost:8080/",
          "height": 37
        },
        "id": "2zcPwRvkQlIk",
        "outputId": "906ee507-82c1-49d7-ca5f-a0c0473c7a36"
      },
      "execution_count": null,
      "outputs": [
        {
          "output_type": "execute_result",
          "data": {
            "application/vnd.google.colaboratory.intrinsic+json": {
              "type": "string"
            },
            "text/plain": [
              "'New'"
            ]
          },
          "metadata": {},
          "execution_count": 7
        }
      ]
    },
    {
      "cell_type": "code",
      "source": [
        "dict_a.keys()"
      ],
      "metadata": {
        "colab": {
          "base_uri": "https://localhost:8080/"
        },
        "id": "S5hX_UbJQoPJ",
        "outputId": "fb18fe48-c386-4a7b-eeb6-004c61a6d525"
      },
      "execution_count": null,
      "outputs": [
        {
          "output_type": "execute_result",
          "data": {
            "text/plain": [
              "dict_keys([1, 'N', '2022'])"
            ]
          },
          "metadata": {},
          "execution_count": 12
        }
      ]
    },
    {
      "cell_type": "code",
      "source": [
        "dict_a.values()"
      ],
      "metadata": {
        "colab": {
          "base_uri": "https://localhost:8080/"
        },
        "id": "tfOMWnxvQ2NU",
        "outputId": "b5129879-bd57-45de-9407-dc5df9867009"
      },
      "execution_count": null,
      "outputs": [
        {
          "output_type": "execute_result",
          "data": {
            "text/plain": [
              "dict_values(['Happy', 'New', 'Year'])"
            ]
          },
          "metadata": {},
          "execution_count": 13
        }
      ]
    },
    {
      "cell_type": "markdown",
      "source": [
        "###การเพิ่มสมาชิกลงไปใน Dictionary"
      ],
      "metadata": {
        "id": "SEkgqtMBRLW3"
      }
    },
    {
      "cell_type": "code",
      "source": [
        "dict_a[7] = 3.14"
      ],
      "metadata": {
        "id": "rozY0bYQRTHa"
      },
      "execution_count": null,
      "outputs": []
    },
    {
      "cell_type": "code",
      "source": [
        "dict_a"
      ],
      "metadata": {
        "colab": {
          "base_uri": "https://localhost:8080/"
        },
        "id": "1gIP81ibRYpq",
        "outputId": "9260c1dc-2c76-4766-890d-dcbbbdfc9072"
      },
      "execution_count": null,
      "outputs": [
        {
          "output_type": "execute_result",
          "data": {
            "text/plain": [
              "{1: 'Happy', '2022': 'Year', 7: 3.14, 'N': 'New'}"
            ]
          },
          "metadata": {},
          "execution_count": 15
        }
      ]
    },
    {
      "cell_type": "code",
      "source": [
        "dict_a['N'] = 'NNEEWW' #จะอัพเดตที่ซ้ำเป็นค่าที่กำหนดใหม่"
      ],
      "metadata": {
        "id": "mcDRMzS3RiHw"
      },
      "execution_count": null,
      "outputs": []
    },
    {
      "cell_type": "code",
      "source": [
        "dict_a #จะอัพเดตที่ซ้ำเป็นค่าที่กำหนดใหม่"
      ],
      "metadata": {
        "colab": {
          "base_uri": "https://localhost:8080/"
        },
        "id": "CLtykFgnRooP",
        "outputId": "42e6725d-742d-45f2-839c-1acdd65388c8"
      },
      "execution_count": null,
      "outputs": [
        {
          "output_type": "execute_result",
          "data": {
            "text/plain": [
              "{1: 'Happy', '2022': 'Year', 7: 3.14, 'N': 'NNEEWW'}"
            ]
          },
          "metadata": {},
          "execution_count": 19
        }
      ]
    },
    {
      "cell_type": "markdown",
      "source": [
        "##Numpy Array\n",
        "คุณสมบัติ\n",
        "- เก็บได้แต่ตัวเลข\n",
        "- อ้างอิงโดยใช้พิกัด ( 2 มิติก็มองเป็น Matrix)"
      ],
      "metadata": {
        "id": "Z5NlgCtIPF-C"
      }
    },
    {
      "cell_type": "code",
      "source": [
        "import numpy"
      ],
      "metadata": {
        "id": "hrcxgp7WU08J"
      },
      "execution_count": 10,
      "outputs": []
    },
    {
      "cell_type": "markdown",
      "source": [
        "###1D array"
      ],
      "metadata": {
        "id": "qfFqQU63YIID"
      }
    },
    {
      "cell_type": "code",
      "source": [
        "list_A = [1,2,3,4,5]"
      ],
      "metadata": {
        "id": "sQlx5RXLVyzz"
      },
      "execution_count": 12,
      "outputs": []
    },
    {
      "cell_type": "code",
      "source": [
        "arr_a = numpy.array (list_A)"
      ],
      "metadata": {
        "id": "-juozOXGVLLs"
      },
      "execution_count": 13,
      "outputs": []
    },
    {
      "cell_type": "code",
      "source": [
        "arr_a"
      ],
      "metadata": {
        "colab": {
          "base_uri": "https://localhost:8080/"
        },
        "id": "ZIgm-dn0VtJa",
        "outputId": "a862c098-ded2-41af-896d-09afaa299930"
      },
      "execution_count": 14,
      "outputs": [
        {
          "output_type": "execute_result",
          "data": {
            "text/plain": [
              "array([1, 2, 3, 4, 5])"
            ]
          },
          "metadata": {},
          "execution_count": 14
        }
      ]
    },
    {
      "cell_type": "code",
      "source": [
        "list_A"
      ],
      "metadata": {
        "colab": {
          "base_uri": "https://localhost:8080/"
        },
        "id": "GUf3WydJV-XM",
        "outputId": "998c3a1f-77ab-41d4-bfcc-05b75b671c6f"
      },
      "execution_count": 15,
      "outputs": [
        {
          "output_type": "execute_result",
          "data": {
            "text/plain": [
              "[1, 2, 3, 4, 5]"
            ]
          },
          "metadata": {},
          "execution_count": 15
        }
      ]
    },
    {
      "cell_type": "code",
      "source": [
        "arr_a[0]"
      ],
      "metadata": {
        "colab": {
          "base_uri": "https://localhost:8080/"
        },
        "id": "odQgCsLTWA4W",
        "outputId": "4f1b0b5d-807b-4762-eade-e79c6a5eebbd"
      },
      "execution_count": 16,
      "outputs": [
        {
          "output_type": "execute_result",
          "data": {
            "text/plain": [
              "1"
            ]
          },
          "metadata": {},
          "execution_count": 16
        }
      ]
    },
    {
      "cell_type": "code",
      "source": [
        "list_A[0]"
      ],
      "metadata": {
        "colab": {
          "base_uri": "https://localhost:8080/"
        },
        "id": "tu0Ln7RAWFFT",
        "outputId": "1521d172-edee-40a2-f41a-c42e20e5c8e1"
      },
      "execution_count": 17,
      "outputs": [
        {
          "output_type": "execute_result",
          "data": {
            "text/plain": [
              "1"
            ]
          },
          "metadata": {},
          "execution_count": 17
        }
      ]
    },
    {
      "cell_type": "code",
      "source": [
        "5 * arr_a #คุณสมบัติ Matrix scalar multilication"
      ],
      "metadata": {
        "colab": {
          "base_uri": "https://localhost:8080/"
        },
        "id": "B2hL9hZVWI5-",
        "outputId": "fc4c6f88-a3c5-4127-a149-6675560d009b"
      },
      "execution_count": 18,
      "outputs": [
        {
          "output_type": "execute_result",
          "data": {
            "text/plain": [
              "array([ 5, 10, 15, 20, 25])"
            ]
          },
          "metadata": {},
          "execution_count": 18
        }
      ]
    },
    {
      "cell_type": "code",
      "source": [
        "5*list_A"
      ],
      "metadata": {
        "colab": {
          "base_uri": "https://localhost:8080/"
        },
        "id": "7vz8AWAeWmo5",
        "outputId": "2fd3b304-7403-4356-f888-84299d065ece"
      },
      "execution_count": 19,
      "outputs": [
        {
          "output_type": "execute_result",
          "data": {
            "text/plain": [
              "[1, 2, 3, 4, 5, 1, 2, 3, 4, 5, 1, 2, 3, 4, 5, 1, 2, 3, 4, 5, 1, 2, 3, 4, 5]"
            ]
          },
          "metadata": {},
          "execution_count": 19
        }
      ]
    },
    {
      "cell_type": "code",
      "source": [
        "arr_b = numpy.array( [10,20,30,40,50])"
      ],
      "metadata": {
        "id": "ijy_K0coXWBD"
      },
      "execution_count": 20,
      "outputs": []
    },
    {
      "cell_type": "code",
      "source": [
        "print(arr_a)"
      ],
      "metadata": {
        "colab": {
          "base_uri": "https://localhost:8080/"
        },
        "id": "OrK7zZt8XiYl",
        "outputId": "e33f3f2b-ffb2-4806-a57a-d0fbbbcf49a1"
      },
      "execution_count": 21,
      "outputs": [
        {
          "output_type": "stream",
          "name": "stdout",
          "text": [
            "[1 2 3 4 5]\n"
          ]
        }
      ]
    },
    {
      "cell_type": "code",
      "source": [
        "arr_a + arr_b"
      ],
      "metadata": {
        "colab": {
          "base_uri": "https://localhost:8080/"
        },
        "id": "Cl3AGhcOXre1",
        "outputId": "9baa1493-4e31-4833-b952-ecee8836f655"
      },
      "execution_count": 22,
      "outputs": [
        {
          "output_type": "execute_result",
          "data": {
            "text/plain": [
              "array([11, 22, 33, 44, 55])"
            ]
          },
          "metadata": {},
          "execution_count": 22
        }
      ]
    },
    {
      "cell_type": "code",
      "source": [
        "arr_a.shape"
      ],
      "metadata": {
        "colab": {
          "base_uri": "https://localhost:8080/"
        },
        "id": "vAmtgE2xfsMB",
        "outputId": "cb157ba8-2ec6-43a8-ee0e-fc867361ec74"
      },
      "execution_count": 23,
      "outputs": [
        {
          "output_type": "execute_result",
          "data": {
            "text/plain": [
              "(5,)"
            ]
          },
          "metadata": {},
          "execution_count": 23
        }
      ]
    },
    {
      "cell_type": "markdown",
      "source": [
        ""
      ],
      "metadata": {
        "id": "2wt1wtJgfoI-"
      }
    },
    {
      "cell_type": "markdown",
      "source": [
        "###2D array"
      ],
      "metadata": {
        "id": "YPRDNcRcYD0k"
      }
    },
    {
      "cell_type": "code",
      "source": [
        "import numpy as np"
      ],
      "metadata": {
        "id": "sQLQiYWlYSxG"
      },
      "execution_count": 24,
      "outputs": []
    },
    {
      "cell_type": "code",
      "source": [
        "arr2_x = np.array([[1,3,5],[7,9,0]])"
      ],
      "metadata": {
        "id": "ScJTGpcGYZZv"
      },
      "execution_count": 25,
      "outputs": []
    },
    {
      "cell_type": "code",
      "source": [
        "arr2_x"
      ],
      "metadata": {
        "colab": {
          "base_uri": "https://localhost:8080/"
        },
        "id": "HGicwxxoZCAQ",
        "outputId": "bf973d2f-63a8-4a4f-c0f0-0f4361115ef0"
      },
      "execution_count": 26,
      "outputs": [
        {
          "output_type": "execute_result",
          "data": {
            "text/plain": [
              "array([[1, 3, 5],\n",
              "       [7, 9, 0]])"
            ]
          },
          "metadata": {},
          "execution_count": 26
        }
      ]
    },
    {
      "cell_type": "markdown",
      "source": [
        "###np.zeros()"
      ],
      "metadata": {
        "id": "SCr-jVSQZblb"
      }
    },
    {
      "cell_type": "code",
      "source": [
        "arr2_3_5_0 = np.zeros((3,5))"
      ],
      "metadata": {
        "id": "SCppy5vnZYtI"
      },
      "execution_count": 27,
      "outputs": []
    },
    {
      "cell_type": "code",
      "source": [
        "arr2_3_5_0"
      ],
      "metadata": {
        "colab": {
          "base_uri": "https://localhost:8080/"
        },
        "id": "x535xzNfaKuT",
        "outputId": "0554018c-a5c2-4600-f184-822f8ad90f6a"
      },
      "execution_count": 28,
      "outputs": [
        {
          "output_type": "execute_result",
          "data": {
            "text/plain": [
              "array([[0., 0., 0., 0., 0.],\n",
              "       [0., 0., 0., 0., 0.],\n",
              "       [0., 0., 0., 0., 0.]])"
            ]
          },
          "metadata": {},
          "execution_count": 28
        }
      ]
    },
    {
      "cell_type": "code",
      "source": [
        "arr2_3_5_0[1,2] = 9"
      ],
      "metadata": {
        "id": "FsyNh0yzaadf"
      },
      "execution_count": 29,
      "outputs": []
    },
    {
      "cell_type": "code",
      "source": [
        "arr2_3_5_0 #กำหนดค่า"
      ],
      "metadata": {
        "colab": {
          "base_uri": "https://localhost:8080/"
        },
        "id": "tdDY8Snfaq72",
        "outputId": "ab918ff8-6625-468c-fce5-bb495d0d1833"
      },
      "execution_count": 30,
      "outputs": [
        {
          "output_type": "execute_result",
          "data": {
            "text/plain": [
              "array([[0., 0., 0., 0., 0.],\n",
              "       [0., 0., 9., 0., 0.],\n",
              "       [0., 0., 0., 0., 0.]])"
            ]
          },
          "metadata": {},
          "execution_count": 30
        }
      ]
    },
    {
      "cell_type": "code",
      "source": [
        "arr2_3_5_0[1,2] #ชี้"
      ],
      "metadata": {
        "colab": {
          "base_uri": "https://localhost:8080/"
        },
        "id": "Ny1zmAZnauDE",
        "outputId": "c7d519dc-be58-4893-9b81-c247dd7aea27"
      },
      "execution_count": 31,
      "outputs": [
        {
          "output_type": "execute_result",
          "data": {
            "text/plain": [
              "9.0"
            ]
          },
          "metadata": {},
          "execution_count": 31
        }
      ]
    },
    {
      "cell_type": "code",
      "source": [
        "print(list_A) #เปลี่ยนค่าในList()\n",
        "list_A[-1] = 'Christmas'\n",
        "print(list_A)"
      ],
      "metadata": {
        "colab": {
          "base_uri": "https://localhost:8080/"
        },
        "id": "oCjAPcbabXKI",
        "outputId": "fc0560bd-92dc-4e70-f6d1-c82152cae639"
      },
      "execution_count": 32,
      "outputs": [
        {
          "output_type": "stream",
          "name": "stdout",
          "text": [
            "[1, 2, 3, 4, 5]\n",
            "[1, 2, 3, 4, 'Christmas']\n"
          ]
        }
      ]
    },
    {
      "cell_type": "markdown",
      "source": [
        "### np.ones()"
      ],
      "metadata": {
        "id": "1-H2l1cpb4R7"
      }
    },
    {
      "cell_type": "code",
      "source": [
        "arr2_4= np.ones((5,5))"
      ],
      "metadata": {
        "id": "CtMFz4d2b_fi"
      },
      "execution_count": 33,
      "outputs": []
    },
    {
      "cell_type": "code",
      "source": [
        "arr2_4"
      ],
      "metadata": {
        "colab": {
          "base_uri": "https://localhost:8080/"
        },
        "id": "KXwPaYqCcGEf",
        "outputId": "15da6f68-76fb-482e-c659-d69b2e7b06df"
      },
      "execution_count": 34,
      "outputs": [
        {
          "output_type": "execute_result",
          "data": {
            "text/plain": [
              "array([[1., 1., 1., 1., 1.],\n",
              "       [1., 1., 1., 1., 1.],\n",
              "       [1., 1., 1., 1., 1.],\n",
              "       [1., 1., 1., 1., 1.],\n",
              "       [1., 1., 1., 1., 1.]])"
            ]
          },
          "metadata": {},
          "execution_count": 34
        }
      ]
    },
    {
      "cell_type": "code",
      "source": [
        "arr2_5 = 100*np.ones((3,5))"
      ],
      "metadata": {
        "id": "Clo49B8scY71"
      },
      "execution_count": 35,
      "outputs": []
    },
    {
      "cell_type": "code",
      "source": [
        "arr2_5"
      ],
      "metadata": {
        "colab": {
          "base_uri": "https://localhost:8080/"
        },
        "id": "TngAZ9-kcu0j",
        "outputId": "74c68b65-e0c0-438f-dcc0-6010f58a2153"
      },
      "execution_count": 36,
      "outputs": [
        {
          "output_type": "execute_result",
          "data": {
            "text/plain": [
              "array([[100., 100., 100., 100., 100.],\n",
              "       [100., 100., 100., 100., 100.],\n",
              "       [100., 100., 100., 100., 100.]])"
            ]
          },
          "metadata": {},
          "execution_count": 36
        }
      ]
    },
    {
      "cell_type": "markdown",
      "source": [
        "###Matrix operations"
      ],
      "metadata": {
        "id": "BYyf7NtyczMQ"
      }
    },
    {
      "cell_type": "markdown",
      "source": [
        "การบวก ลบ Matrix $M \\pm N$\n",
        "(ต้องมีขนาดเท่ากัน)"
      ],
      "metadata": {
        "id": "KMJxlR6Jc8Bo"
      }
    },
    {
      "cell_type": "code",
      "source": [
        "arr2_4 + arr2_5 # error เพราะมีขนาดไม่เท่ากัน"
      ],
      "metadata": {
        "colab": {
          "base_uri": "https://localhost:8080/",
          "height": 179
        },
        "id": "GeoDYSCYdIPH",
        "outputId": "c3100e84-19f1-4a7c-fb31-67088779d30f"
      },
      "execution_count": null,
      "outputs": [
        {
          "output_type": "error",
          "ename": "ValueError",
          "evalue": "ignored",
          "traceback": [
            "\u001b[0;31m---------------------------------------------------------------------------\u001b[0m",
            "\u001b[0;31mValueError\u001b[0m                                Traceback (most recent call last)",
            "\u001b[0;32m<ipython-input-84-b12efe712152>\u001b[0m in \u001b[0;36m<module>\u001b[0;34m()\u001b[0m\n\u001b[0;32m----> 1\u001b[0;31m \u001b[0marr2_4\u001b[0m \u001b[0;34m+\u001b[0m \u001b[0marr2_5\u001b[0m \u001b[0;31m# error เพราะมีขนาดไม่เท่ากัน\u001b[0m\u001b[0;34m\u001b[0m\u001b[0;34m\u001b[0m\u001b[0m\n\u001b[0m",
            "\u001b[0;31mValueError\u001b[0m: operands could not be broadcast together with shapes (5,5) (3,3) "
          ]
        }
      ]
    },
    {
      "cell_type": "code",
      "source": [
        "arr2_5 + arr2_3_5_0"
      ],
      "metadata": {
        "colab": {
          "base_uri": "https://localhost:8080/"
        },
        "id": "aFwt6jOodSEd",
        "outputId": "7105a02f-b45c-4ab3-951c-b3b57b15ff0a"
      },
      "execution_count": null,
      "outputs": [
        {
          "output_type": "execute_result",
          "data": {
            "text/plain": [
              "array([[100., 100., 100., 100., 100.],\n",
              "       [100., 100., 109., 100., 100.],\n",
              "       [100., 100., 100., 100., 100.]])"
            ]
          },
          "metadata": {},
          "execution_count": 90
        }
      ]
    },
    {
      "cell_type": "markdown",
      "source": [
        "###การคูณ Matrix\n",
        "- $aM$ scalar * Matrix (scalar คูณกระจายเข้าไปทุกตัวของ Matrix)\n",
        "- $M\\times N$ Matrix * Matrix (แถว*หลัก)"
      ],
      "metadata": {
        "id": "pLx4Snk2duVX"
      }
    },
    {
      "cell_type": "markdown",
      "source": [
        "$aM$"
      ],
      "metadata": {
        "id": "F6BlIoQVerp7"
      }
    },
    {
      "cell_type": "code",
      "source": [
        "5 *   arr_a"
      ],
      "metadata": {
        "colab": {
          "base_uri": "https://localhost:8080/"
        },
        "id": "EgxUzyDdekSf",
        "outputId": "10bf477c-79aa-492a-8c5c-1e602901df67"
      },
      "execution_count": 37,
      "outputs": [
        {
          "output_type": "execute_result",
          "data": {
            "text/plain": [
              "array([ 5, 10, 15, 20, 25])"
            ]
          },
          "metadata": {},
          "execution_count": 37
        }
      ]
    },
    {
      "cell_type": "markdown",
      "source": [
        "$M\\times N$ (dot product)\n",
        "- (m * n) $\\times$ (n,o) = (m,o) (Shape)\n"
      ],
      "metadata": {
        "id": "kR8SPof_euSX"
      }
    },
    {
      "cell_type": "code",
      "source": [
        "mat_a = np.array([[2,3,5],[4,6,7]])\n",
        "mat_b = np.array([[1,3,5],[2,4,-7]])\n",
        "mat_c = np.array([[2,3],[4,6],[7,9]])"
      ],
      "metadata": {
        "id": "wv_7-zZLfuq9"
      },
      "execution_count": 38,
      "outputs": []
    },
    {
      "cell_type": "code",
      "source": [
        "mat_a"
      ],
      "metadata": {
        "colab": {
          "base_uri": "https://localhost:8080/"
        },
        "id": "oyC8F21mgSdX",
        "outputId": "889e2b5d-94f8-4eca-ce0e-d10719a7763f"
      },
      "execution_count": 39,
      "outputs": [
        {
          "output_type": "execute_result",
          "data": {
            "text/plain": [
              "array([[2, 3, 5],\n",
              "       [4, 6, 7]])"
            ]
          },
          "metadata": {},
          "execution_count": 39
        }
      ]
    },
    {
      "cell_type": "code",
      "source": [
        "mat_b"
      ],
      "metadata": {
        "colab": {
          "base_uri": "https://localhost:8080/"
        },
        "id": "VlXzowu9gUGk",
        "outputId": "227fe747-2596-4a15-afd8-48eb49e5c739"
      },
      "execution_count": 40,
      "outputs": [
        {
          "output_type": "execute_result",
          "data": {
            "text/plain": [
              "array([[ 1,  3,  5],\n",
              "       [ 2,  4, -7]])"
            ]
          },
          "metadata": {},
          "execution_count": 40
        }
      ]
    },
    {
      "cell_type": "code",
      "source": [
        "mat_c"
      ],
      "metadata": {
        "colab": {
          "base_uri": "https://localhost:8080/"
        },
        "id": "WEzpac9vgVeb",
        "outputId": "d04be791-bec9-4ced-8b51-08ab78e73fb8"
      },
      "execution_count": 41,
      "outputs": [
        {
          "output_type": "execute_result",
          "data": {
            "text/plain": [
              "array([[2, 3],\n",
              "       [4, 6],\n",
              "       [7, 9]])"
            ]
          },
          "metadata": {},
          "execution_count": 41
        }
      ]
    },
    {
      "cell_type": "markdown",
      "source": [
        "###axc, bxc"
      ],
      "metadata": {
        "id": "PSNMapI7gXEg"
      }
    },
    {
      "cell_type": "code",
      "source": [
        "np.dot(mat_a,mat_c)"
      ],
      "metadata": {
        "colab": {
          "base_uri": "https://localhost:8080/"
        },
        "id": "W5inA5mNgoS3",
        "outputId": "f8fe05a2-c924-4b35-f7da-3a9ce6f3f02f"
      },
      "execution_count": 42,
      "outputs": [
        {
          "output_type": "execute_result",
          "data": {
            "text/plain": [
              "array([[ 51,  69],\n",
              "       [ 81, 111]])"
            ]
          },
          "metadata": {},
          "execution_count": 42
        }
      ]
    },
    {
      "cell_type": "code",
      "source": [
        "np.dot(mat_b,mat_c)"
      ],
      "metadata": {
        "colab": {
          "base_uri": "https://localhost:8080/"
        },
        "id": "p9z-NJoCgtbp",
        "outputId": "102a6656-ad09-467f-a7cb-bda3b3024067"
      },
      "execution_count": 43,
      "outputs": [
        {
          "output_type": "execute_result",
          "data": {
            "text/plain": [
              "array([[ 49,  66],\n",
              "       [-29, -33]])"
            ]
          },
          "metadata": {},
          "execution_count": 43
        }
      ]
    },
    {
      "cell_type": "markdown",
      "source": [
        "###cxa, cxb"
      ],
      "metadata": {
        "id": "wbbh9Ml6hCXF"
      }
    },
    {
      "cell_type": "code",
      "source": [
        "np.dot(mat_c,mat_a)"
      ],
      "metadata": {
        "colab": {
          "base_uri": "https://localhost:8080/"
        },
        "id": "J4KSB9QGgzm9",
        "outputId": "7d4e8df4-9bc6-4d98-dad0-dd12eb67df69"
      },
      "execution_count": 44,
      "outputs": [
        {
          "output_type": "execute_result",
          "data": {
            "text/plain": [
              "array([[16, 24, 31],\n",
              "       [32, 48, 62],\n",
              "       [50, 75, 98]])"
            ]
          },
          "metadata": {},
          "execution_count": 44
        }
      ]
    },
    {
      "cell_type": "code",
      "source": [
        "mat_x = np.dot(mat_c,mat_b)\n",
        "print(mat_x)"
      ],
      "metadata": {
        "colab": {
          "base_uri": "https://localhost:8080/"
        },
        "id": "Dw3sFjAYhMT9",
        "outputId": "b09119ef-d773-4049-e441-8e4952fbf4f1"
      },
      "execution_count": 45,
      "outputs": [
        {
          "output_type": "stream",
          "name": "stdout",
          "text": [
            "[[  8  18 -11]\n",
            " [ 16  36 -22]\n",
            " [ 25  57 -28]]\n"
          ]
        }
      ]
    },
    {
      "cell_type": "code",
      "source": [
        "mat_a * mat_b # * ไม่ได้คูณตามหลัก matrix เป็นหารคูณตรงตัว"
      ],
      "metadata": {
        "colab": {
          "base_uri": "https://localhost:8080/"
        },
        "id": "a1qwjnnyhV1l",
        "outputId": "64f7765b-4e6e-48e9-b68b-415f483276cd"
      },
      "execution_count": 46,
      "outputs": [
        {
          "output_type": "execute_result",
          "data": {
            "text/plain": [
              "array([[  2,   9,  25],\n",
              "       [  8,  24, -49]])"
            ]
          },
          "metadata": {},
          "execution_count": 46
        }
      ]
    },
    {
      "cell_type": "markdown",
      "source": [
        "### Matrix Slicing"
      ],
      "metadata": {
        "id": "0KMf-I_Yhv_6"
      }
    },
    {
      "cell_type": "code",
      "source": [
        "mat_x[:2, :2]"
      ],
      "metadata": {
        "colab": {
          "base_uri": "https://localhost:8080/"
        },
        "id": "R8vwEXwRiKke",
        "outputId": "f3108fdd-e59a-49ce-cd9a-cbe1940b9e26"
      },
      "execution_count": 47,
      "outputs": [
        {
          "output_type": "execute_result",
          "data": {
            "text/plain": [
              "array([[ 8, 18],\n",
              "       [16, 36]])"
            ]
          },
          "metadata": {},
          "execution_count": 47
        }
      ]
    },
    {
      "cell_type": "markdown",
      "source": [
        "#HW 3 \n",
        "\n",
        "1. สร้าง array ที่มีรูป ต้น Christmas\n",
        "2. Slice เลข 1 ออกมาจาก array HW3"
      ],
      "metadata": {
        "id": "KE3A9EtcickJ"
      }
    },
    {
      "cell_type": "code",
      "source": [
        "hw = np.ones((15,14))\n",
        "hw"
      ],
      "metadata": {
        "colab": {
          "base_uri": "https://localhost:8080/"
        },
        "id": "w2D4d9Rs6q5s",
        "outputId": "1903def4-6717-463c-c5d2-9ad696d50465"
      },
      "execution_count": 65,
      "outputs": [
        {
          "output_type": "execute_result",
          "data": {
            "text/plain": [
              "array([[1., 1., 1., 1., 1., 1., 1., 1., 1., 1., 1., 1., 1., 1.],\n",
              "       [1., 1., 1., 1., 1., 1., 1., 1., 1., 1., 1., 1., 1., 1.],\n",
              "       [1., 1., 1., 1., 1., 1., 1., 1., 1., 1., 1., 1., 1., 1.],\n",
              "       [1., 1., 1., 1., 1., 1., 1., 1., 1., 1., 1., 1., 1., 1.],\n",
              "       [1., 1., 1., 1., 1., 1., 1., 1., 1., 1., 1., 1., 1., 1.],\n",
              "       [1., 1., 1., 1., 1., 1., 1., 1., 1., 1., 1., 1., 1., 1.],\n",
              "       [1., 1., 1., 1., 1., 1., 1., 1., 1., 1., 1., 1., 1., 1.],\n",
              "       [1., 1., 1., 1., 1., 1., 1., 1., 1., 1., 1., 1., 1., 1.],\n",
              "       [1., 1., 1., 1., 1., 1., 1., 1., 1., 1., 1., 1., 1., 1.],\n",
              "       [1., 1., 1., 1., 1., 1., 1., 1., 1., 1., 1., 1., 1., 1.],\n",
              "       [1., 1., 1., 1., 1., 1., 1., 1., 1., 1., 1., 1., 1., 1.],\n",
              "       [1., 1., 1., 1., 1., 1., 1., 1., 1., 1., 1., 1., 1., 1.],\n",
              "       [1., 1., 1., 1., 1., 1., 1., 1., 1., 1., 1., 1., 1., 1.],\n",
              "       [1., 1., 1., 1., 1., 1., 1., 1., 1., 1., 1., 1., 1., 1.],\n",
              "       [1., 1., 1., 1., 1., 1., 1., 1., 1., 1., 1., 1., 1., 1.]])"
            ]
          },
          "metadata": {},
          "execution_count": 65
        }
      ]
    },
    {
      "cell_type": "code",
      "source": [
        "hw[1,7] = 8\n",
        "hw[2,6:9] = 8\n",
        "hw[3,5:10] = 8\n",
        "hw[4,4:11] = 8\n",
        "hw[5,5:10] = 8\n",
        "hw[6,4:11] = 8\n",
        "hw[7,3:12] = 8\n",
        "hw[8,2:13] = 8\n",
        "hw[9,3:12] = 8\n",
        "hw[10,2:13] = 8\n",
        "hw[11,1:14] = 8\n",
        "hw[12,6:9] = 8\n",
        "hw[13,6:9] = 8\n",
        "hw \n"
      ],
      "metadata": {
        "colab": {
          "base_uri": "https://localhost:8080/"
        },
        "id": "ztre1Kgv8fPK",
        "outputId": "9020b250-dfae-47dd-f6a0-484531ea23a0"
      },
      "execution_count": 66,
      "outputs": [
        {
          "output_type": "execute_result",
          "data": {
            "text/plain": [
              "array([[1., 1., 1., 1., 1., 1., 1., 1., 1., 1., 1., 1., 1., 1.],\n",
              "       [1., 1., 1., 1., 1., 1., 1., 8., 1., 1., 1., 1., 1., 1.],\n",
              "       [1., 1., 1., 1., 1., 1., 8., 8., 8., 1., 1., 1., 1., 1.],\n",
              "       [1., 1., 1., 1., 1., 8., 8., 8., 8., 8., 1., 1., 1., 1.],\n",
              "       [1., 1., 1., 1., 8., 8., 8., 8., 8., 8., 8., 1., 1., 1.],\n",
              "       [1., 1., 1., 1., 1., 8., 8., 8., 8., 8., 1., 1., 1., 1.],\n",
              "       [1., 1., 1., 1., 8., 8., 8., 8., 8., 8., 8., 1., 1., 1.],\n",
              "       [1., 1., 1., 8., 8., 8., 8., 8., 8., 8., 8., 8., 1., 1.],\n",
              "       [1., 1., 8., 8., 8., 8., 8., 8., 8., 8., 8., 8., 8., 1.],\n",
              "       [1., 1., 1., 8., 8., 8., 8., 8., 8., 8., 8., 8., 1., 1.],\n",
              "       [1., 1., 8., 8., 8., 8., 8., 8., 8., 8., 8., 8., 8., 1.],\n",
              "       [1., 8., 8., 8., 8., 8., 8., 8., 8., 8., 8., 8., 8., 8.],\n",
              "       [1., 1., 1., 1., 1., 1., 8., 8., 8., 1., 1., 1., 1., 1.],\n",
              "       [1., 1., 1., 1., 1., 1., 8., 8., 8., 1., 1., 1., 1., 1.],\n",
              "       [1., 1., 1., 1., 1., 1., 1., 1., 1., 1., 1., 1., 1., 1.]])"
            ]
          },
          "metadata": {},
          "execution_count": 66
        }
      ]
    },
    {
      "cell_type": "markdown",
      "source": [
        "## Panda Dataframe (แยกออกไปเป็น Notebook เฉพาะ)"
      ],
      "metadata": {
        "id": "jViFddFsO0BZ"
      }
    },
    {
      "cell_type": "code",
      "source": [
        ""
      ],
      "metadata": {
        "id": "Po1R62F4Ll6F"
      },
      "execution_count": null,
      "outputs": []
    }
  ]
}