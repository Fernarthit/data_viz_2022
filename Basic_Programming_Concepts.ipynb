{
  "nbformat": 4,
  "nbformat_minor": 0,
  "metadata": {
    "colab": {
      "name": "Basic Programming Concepts.ipynb",
      "provenance": [],
      "authorship_tag": "ABX9TyMLJtW6H83zX6Vc7OlRdncp",
      "include_colab_link": true
    },
    "kernelspec": {
      "name": "python3",
      "display_name": "Python 3"
    },
    "language_info": {
      "name": "python"
    }
  },
  "cells": [
    {
      "cell_type": "markdown",
      "metadata": {
        "id": "view-in-github",
        "colab_type": "text"
      },
      "source": [
        "<a href=\"https://colab.research.google.com/github/Fernarthit/data_viz_2022/blob/main/Basic_Programming_Concepts.ipynb\" target=\"_parent\"><img src=\"https://colab.research.google.com/assets/colab-badge.svg\" alt=\"Open In Colab\"/></a>"
      ]
    },
    {
      "cell_type": "markdown",
      "source": [
        "# Functions ($f(x) = y$)"
      ],
      "metadata": {
        "id": "ndEUxng4DYIK"
      }
    },
    {
      "cell_type": "markdown",
      "source": [
        "```python\n",
        "def function_name(input_x):\n",
        "    # do something with input_x to get output_y\n",
        "    return output_y\n",
        "```"
      ],
      "metadata": {
        "id": "_mdeQu1_ED6H"
      }
    },
    {
      "cell_type": "markdown",
      "source": [
        "$f_1(x)=x^2 + 75$"
      ],
      "metadata": {
        "id": "MO3KLkCLFvns"
      }
    },
    {
      "cell_type": "code",
      "source": [
        "def function_f1(x):\n",
        "    a = x**2\n",
        "    y = a + 75\n",
        "    return y\n",
        "\n",
        "print('done!')"
      ],
      "metadata": {
        "colab": {
          "base_uri": "https://localhost:8080/"
        },
        "id": "FuxV7IAtD02T",
        "outputId": "fafa194a-5568-48ea-b8eb-e746d223ef29"
      },
      "execution_count": null,
      "outputs": [
        {
          "output_type": "stream",
          "name": "stdout",
          "text": [
            "done!\n"
          ]
        }
      ]
    },
    {
      "cell_type": "code",
      "source": [
        "function_f1(3)"
      ],
      "metadata": {
        "colab": {
          "base_uri": "https://localhost:8080/"
        },
        "id": "lwE0P085D0zG",
        "outputId": "acaff890-0400-4ed2-a56a-f08bc9606eca"
      },
      "execution_count": null,
      "outputs": [
        {
          "output_type": "execute_result",
          "data": {
            "text/plain": [
              "84"
            ]
          },
          "metadata": {},
          "execution_count": 97
        }
      ]
    },
    {
      "cell_type": "markdown",
      "source": [
        "###function มีส่วนสำคัญทั้งหมด 4 ส่วน\n",
        "\n",
        "1. บอก python ว่าเราจะเขียนฟังก์ชั่น ชื่ออะไร  `def function_name()`: (ขาดไม่ได้)\n",
        "2. กำหนดตัวแปรที่จะเป็น input  _Input_ (ขาดได้)\n",
        "3. ส่วนประมวลผล do_something with _Input_ to get _Output_ (ขาดไม่ได้)\n",
        "4. ส่วน output `return` _Output_(ขาดได้)"
      ],
      "metadata": {
        "id": "5VC3up0SHLU2"
      }
    },
    {
      "cell_type": "markdown",
      "source": [
        "## ตัวอย่าง function ที่มีส่วนประกอบครบ\n"
      ],
      "metadata": {
        "id": "3f5MrI9RH3-t"
      }
    },
    {
      "cell_type": "code",
      "source": [
        "def function_f1(x):\n",
        "    a = x**2\n",
        "    y = a + 75\n",
        "    return y"
      ],
      "metadata": {
        "id": "T1SwjUsiDzow"
      },
      "execution_count": null,
      "outputs": []
    },
    {
      "cell_type": "markdown",
      "source": [
        "## ตัวอย่าง function ที่ ไม่มี input"
      ],
      "metadata": {
        "id": "QewiXPJZICyV"
      }
    },
    {
      "cell_type": "code",
      "source": [
        "def pi_v():\n",
        "    y = 3.14159265359\n",
        "    return y"
      ],
      "metadata": {
        "id": "JNws0MGlDzg7"
      },
      "execution_count": null,
      "outputs": []
    },
    {
      "cell_type": "code",
      "source": [
        "piv = pi_v()\n",
        "circle_area_r2 = piv*(2**2)\n",
        "print(circle_area_r2) "
      ],
      "metadata": {
        "colab": {
          "base_uri": "https://localhost:8080/"
        },
        "id": "mLHwTEGiDzd7",
        "outputId": "01226afe-b8ef-43b4-9eb3-898cc91b3910"
      },
      "execution_count": null,
      "outputs": [
        {
          "output_type": "stream",
          "name": "stdout",
          "text": [
            "12.56637061436\n"
          ]
        }
      ]
    },
    {
      "cell_type": "markdown",
      "source": [
        "## Function ไม่มี process ไม่ได้"
      ],
      "metadata": {
        "id": "FYsIsEDpJKZb"
      }
    },
    {
      "cell_type": "code",
      "source": [
        "def function_a():"
      ],
      "metadata": {
        "colab": {
          "base_uri": "https://localhost:8080/",
          "height": 142
        },
        "id": "rm0nhmHeDzaj",
        "outputId": "a412f28f-d0a0-44a0-e532-ed4cdc80c912"
      },
      "execution_count": null,
      "outputs": [
        {
          "output_type": "error",
          "ename": "SyntaxError",
          "evalue": "ignored",
          "traceback": [
            "\u001b[0;36m  File \u001b[0;32m\"<ipython-input-101-07a0750214a8>\"\u001b[0;36m, line \u001b[0;32m1\u001b[0m\n\u001b[0;31m    def function_a():\u001b[0m\n\u001b[0m                     ^\u001b[0m\n\u001b[0;31mSyntaxError\u001b[0m\u001b[0;31m:\u001b[0m unexpected EOF while parsing\n"
          ]
        }
      ]
    },
    {
      "cell_type": "markdown",
      "source": [
        "ตัวอย่าง Function ที่ไม่มี output"
      ],
      "metadata": {
        "id": "ShvGkn6CJWXF"
      }
    },
    {
      "cell_type": "code",
      "source": [
        "def print_name_id(name,id):\n",
        "    print(f'ชื่อ {name} รหัสประจำตัว {id}')"
      ],
      "metadata": {
        "id": "ik5FyttBDzXy"
      },
      "execution_count": null,
      "outputs": []
    },
    {
      "cell_type": "code",
      "source": [
        "print_name_id('อาทิตยา','623021010-8')"
      ],
      "metadata": {
        "colab": {
          "base_uri": "https://localhost:8080/"
        },
        "id": "1PjEoA-uDzU_",
        "outputId": "19478939-cde4-44df-cf10-925876f17972"
      },
      "execution_count": null,
      "outputs": [
        {
          "output_type": "stream",
          "name": "stdout",
          "text": [
            "ชื่อ อาทิตยา รหัสประจำตัว 623021010-8\n"
          ]
        }
      ]
    },
    {
      "cell_type": "code",
      "source": [
        "a = print_name_id('อาทิตยา','623021010-8')"
      ],
      "metadata": {
        "colab": {
          "base_uri": "https://localhost:8080/"
        },
        "id": "sLMZG-KQKcHU",
        "outputId": "eb973f76-41a5-4a8a-bdcb-1146ce14e0f1"
      },
      "execution_count": null,
      "outputs": [
        {
          "output_type": "stream",
          "name": "stdout",
          "text": [
            "ชื่อ อาทิตยา รหัสประจำตัว 623021010-8\n"
          ]
        }
      ]
    },
    {
      "cell_type": "code",
      "source": [
        "print('อาทิตยา')\n",
        "print('623021010-8')"
      ],
      "metadata": {
        "colab": {
          "base_uri": "https://localhost:8080/"
        },
        "id": "XrZeH87fO1i_",
        "outputId": "9bc3a776-f203-4dd4-9738-6813e17e6ab4"
      },
      "execution_count": null,
      "outputs": [
        {
          "output_type": "stream",
          "name": "stdout",
          "text": [
            "อาทิตยา\n",
            "623021010-8\n"
          ]
        }
      ]
    },
    {
      "cell_type": "code",
      "source": [
        "print('อาทิตยา',end='->')\n",
        "print('623021010-8')"
      ],
      "metadata": {
        "colab": {
          "base_uri": "https://localhost:8080/"
        },
        "id": "iLNEG71ZO1gK",
        "outputId": "f1b45414-2b58-4383-c30a-f215605544ac"
      },
      "execution_count": null,
      "outputs": [
        {
          "output_type": "stream",
          "name": "stdout",
          "text": [
            "อาทิตยา->623021010-8\n"
          ]
        }
      ]
    },
    {
      "cell_type": "code",
      "source": [
        "print('อาทิตยา','6230201010-8')"
      ],
      "metadata": {
        "colab": {
          "base_uri": "https://localhost:8080/"
        },
        "id": "P7S7sAA9PXyN",
        "outputId": "e383d57c-351f-43f2-92ec-66d79ebcd359"
      },
      "execution_count": null,
      "outputs": [
        {
          "output_type": "stream",
          "name": "stdout",
          "text": [
            "อาทิตยา 6230201010-8\n"
          ]
        }
      ]
    },
    {
      "cell_type": "code",
      "source": [
        "print('อาทิตยา','623021010-8',sep=' & ')"
      ],
      "metadata": {
        "colab": {
          "base_uri": "https://localhost:8080/"
        },
        "id": "V3n3VuB_O1da",
        "outputId": "3a29d27a-3ad6-449a-8d8d-a5da8eb58c9a"
      },
      "execution_count": null,
      "outputs": [
        {
          "output_type": "stream",
          "name": "stdout",
          "text": [
            "อาทิตยา & 623021010-8\n"
          ]
        }
      ]
    },
    {
      "cell_type": "markdown",
      "source": [
        "## input ของ function แบ่งเป็น 2 ชนิด (จำเป็นต้องใส่ กับ ไม่จำเป็นต้องใส่)"
      ],
      "metadata": {
        "id": "bE4Bcw47P_le"
      }
    },
    {
      "cell_type": "markdown",
      "source": [
        "##ตัวอย่าง function `print_grade()` มี input 3 ตัว จำเป็นต้องใส่ 2 ตัว คือ name กับ id และไม่จำเป็นต้องใส่ 1 ตัว คือเกรด ซึ่งมีค่า default เป็น F"
      ],
      "metadata": {
        "id": "1Mk9rBROQ-6e"
      }
    },
    {
      "cell_type": "code",
      "source": [
        "def print_grade(name,id,grade = 'A'):\n",
        "    print(f'รหัสประจำตัว {id} ชื่อ {name}')\n",
        "    print(f'ได้เกรด {grade}')"
      ],
      "metadata": {
        "id": "ygU4MSqbO1aU"
      },
      "execution_count": null,
      "outputs": []
    },
    {
      "cell_type": "code",
      "source": [
        "print_grade('นางสาวอาทิตยา แสงนิลเกิด','623021010-8')"
      ],
      "metadata": {
        "colab": {
          "base_uri": "https://localhost:8080/"
        },
        "id": "JlcXZyMvRVQs",
        "outputId": "d431c443-8206-45b0-d2a7-9b150b73657b"
      },
      "execution_count": null,
      "outputs": [
        {
          "output_type": "stream",
          "name": "stdout",
          "text": [
            "รหัสประจำตัว 623021010-8 ชื่อ นางสาวอาทิตยา แสงนิลเกิด\n",
            "ได้เกรด A\n"
          ]
        }
      ]
    },
    {
      "cell_type": "code",
      "source": [
        "print_grade(id='623021010-8',name='นางสาวอาทิตยา แสงนิลเกิด',grade='B+')"
      ],
      "metadata": {
        "colab": {
          "base_uri": "https://localhost:8080/"
        },
        "id": "u3QHMqUaRw3U",
        "outputId": "44988eea-a772-4cbc-a9e4-9a203920343f"
      },
      "execution_count": null,
      "outputs": [
        {
          "output_type": "stream",
          "name": "stdout",
          "text": [
            "รหัสประจำตัว 623021010-8 ชื่อ นางสาวอาทิตยา แสงนิลเกิด\n",
            "ได้เกรด B+\n"
          ]
        }
      ]
    },
    {
      "cell_type": "markdown",
      "source": [
        "# Looping (for)"
      ],
      "metadata": {
        "id": "uvA7dX8xDeNB"
      }
    },
    {
      "cell_type": "markdown",
      "source": [
        "``` python\n",
        "for member in listEx:\n",
        "    do_someting()\n",
        "```"
      ],
      "metadata": {
        "id": "blAiv_XYTTBB"
      }
    },
    {
      "cell_type": "code",
      "source": [
        "for member in [1,2,3,4,5,6] :\n",
        "    print(member)"
      ],
      "metadata": {
        "colab": {
          "base_uri": "https://localhost:8080/"
        },
        "id": "hFi8eP3fULxU",
        "outputId": "38f13db8-58df-43a2-f243-84bfc69a809a"
      },
      "execution_count": null,
      "outputs": [
        {
          "output_type": "stream",
          "name": "stdout",
          "text": [
            "1\n",
            "2\n",
            "3\n",
            "4\n",
            "5\n",
            "6\n"
          ]
        }
      ]
    },
    {
      "cell_type": "code",
      "source": [
        "def print_name(name) :\n",
        "   print(f' ฉันชื่อ  {name}  ') "
      ],
      "metadata": {
        "id": "NGieFH-cUpIt"
      },
      "execution_count": null,
      "outputs": []
    },
    {
      "cell_type": "code",
      "source": [
        "for name in [ 'วัชราภรณ์' , 'ญาดา', 'วีระพล' , ' อาทิตยา'] :\n",
        "  N = name\n",
        "  print_name(N)"
      ],
      "metadata": {
        "colab": {
          "base_uri": "https://localhost:8080/"
        },
        "id": "uv4A-iXyVMBI",
        "outputId": "eabb1a78-3d1c-463e-cd31-bda5614b7f53"
      },
      "execution_count": null,
      "outputs": [
        {
          "output_type": "stream",
          "name": "stdout",
          "text": [
            " ฉันชื่อ  วัชราภรณ์  \n",
            " ฉันชื่อ  ญาดา  \n",
            " ฉันชื่อ  วีระพล  \n",
            " ฉันชื่อ   อาทิตยา  \n"
          ]
        }
      ]
    },
    {
      "cell_type": "code",
      "source": [
        "list_name_id_grade = [['นางสาวอาทิตยา แสงนิลเกิด', '623021010-8','A'],['นางสาวญาดา สรณะสมบูรณ์','623020256-9','A']]"
      ],
      "metadata": {
        "id": "qhMnAYYrWxah"
      },
      "execution_count": null,
      "outputs": []
    },
    {
      "cell_type": "code",
      "source": [
        "for each in list_name_id_grade:\n",
        "      name = each[0]\n",
        "      id = each[1]\n",
        "      grade =  each[2]\n",
        "      print_grade(name,id,grade)\n",
        "      print('-----------------------')"
      ],
      "metadata": {
        "colab": {
          "base_uri": "https://localhost:8080/"
        },
        "id": "WlOknuhsXMwN",
        "outputId": "71b0c478-c32e-4546-a5a2-5f7379a0099e"
      },
      "execution_count": null,
      "outputs": [
        {
          "output_type": "stream",
          "name": "stdout",
          "text": [
            "รหัสประจำตัว 623021010-8 ชื่อ นางสาวอาทิตยา แสงนิลเกิด\n",
            "ได้เกรด A\n",
            "-----------------------\n",
            "รหัสประจำตัว 623020256-9 ชื่อ นางสาวญาดา สรณะสมบูรณ์\n",
            "ได้เกรด A\n",
            "-----------------------\n"
          ]
        }
      ]
    },
    {
      "cell_type": "markdown",
      "source": [
        "###ใช้ for loop เพิ่มสมาชิกใน list"
      ],
      "metadata": {
        "id": "owxDSvvWYUB3"
      }
    },
    {
      "cell_type": "code",
      "source": [
        "list_name = []\n",
        "list_id = []\n",
        "list_grade = []\n",
        "for each in list_name_id_grade:\n",
        "     list_name.append(each[0])\n",
        "     list_id.append(each[1])\n",
        "     list_grade.append(each[2])"
      ],
      "metadata": {
        "id": "GqlJ6aehYi-P"
      },
      "execution_count": null,
      "outputs": []
    },
    {
      "cell_type": "code",
      "source": [
        "list_name"
      ],
      "metadata": {
        "colab": {
          "base_uri": "https://localhost:8080/"
        },
        "id": "Wtm5fvwlZFFg",
        "outputId": "06263877-bc92-4912-93d1-55901128338e"
      },
      "execution_count": null,
      "outputs": [
        {
          "output_type": "execute_result",
          "data": {
            "text/plain": [
              "['นางสาวอาทิตยา แสงนิลเกิด', 'นางสาวญาดา สรณะสมบูรณ์']"
            ]
          },
          "metadata": {},
          "execution_count": 125
        }
      ]
    },
    {
      "cell_type": "markdown",
      "source": [
        "### การวนลูปด้วย ` range() `"
      ],
      "metadata": {
        "id": "7xl-0LY8bW60"
      }
    },
    {
      "cell_type": "code",
      "source": [
        "for i in range(9) :\n",
        "      print('ไม่รู้' , end = '    ')"
      ],
      "metadata": {
        "colab": {
          "base_uri": "https://localhost:8080/"
        },
        "id": "DmHMQJ0BblRd",
        "outputId": "425040cc-3a32-4619-ead4-6f5ce74c2ee0"
      },
      "execution_count": null,
      "outputs": [
        {
          "output_type": "stream",
          "name": "stdout",
          "text": [
            "ไม่รู้    ไม่รู้    ไม่รู้    ไม่รู้    ไม่รู้    ไม่รู้    ไม่รู้    ไม่รู้    ไม่รู้    "
          ]
        }
      ]
    },
    {
      "cell_type": "markdown",
      "source": [
        "###Loop ซ้อน Loop"
      ],
      "metadata": {
        "id": "MZLyVYn8cSFA"
      }
    },
    {
      "cell_type": "code",
      "source": [
        "for mem1 in range(2,5) : #[2,3,4]\n",
        "    print ( f' now mem1 =  {mem1}' )\n",
        "    for mem2 in range(1,13) : #[1,2,3,4,5,6,7,8,9,10,11,12]\n",
        "          print (f' {mem1}  x  {mem2} = {mem1*mem2} ')\n",
        "    print(f' end inner for mem1 = {mem1}' )"
      ],
      "metadata": {
        "colab": {
          "base_uri": "https://localhost:8080/"
        },
        "id": "GkOxqoYpcKOH",
        "outputId": "9d732ca6-470c-40b3-ef49-d2f82a0e2821"
      },
      "execution_count": null,
      "outputs": [
        {
          "output_type": "stream",
          "name": "stdout",
          "text": [
            " now mem1 =  2\n",
            " 2  x  1 = 2 \n",
            " 2  x  2 = 4 \n",
            " 2  x  3 = 6 \n",
            " 2  x  4 = 8 \n",
            " 2  x  5 = 10 \n",
            " 2  x  6 = 12 \n",
            " 2  x  7 = 14 \n",
            " 2  x  8 = 16 \n",
            " 2  x  9 = 18 \n",
            " 2  x  10 = 20 \n",
            " 2  x  11 = 22 \n",
            " 2  x  12 = 24 \n",
            " end inner for mem1 = 2\n",
            " now mem1 =  3\n",
            " 3  x  1 = 3 \n",
            " 3  x  2 = 6 \n",
            " 3  x  3 = 9 \n",
            " 3  x  4 = 12 \n",
            " 3  x  5 = 15 \n",
            " 3  x  6 = 18 \n",
            " 3  x  7 = 21 \n",
            " 3  x  8 = 24 \n",
            " 3  x  9 = 27 \n",
            " 3  x  10 = 30 \n",
            " 3  x  11 = 33 \n",
            " 3  x  12 = 36 \n",
            " end inner for mem1 = 3\n",
            " now mem1 =  4\n",
            " 4  x  1 = 4 \n",
            " 4  x  2 = 8 \n",
            " 4  x  3 = 12 \n",
            " 4  x  4 = 16 \n",
            " 4  x  5 = 20 \n",
            " 4  x  6 = 24 \n",
            " 4  x  7 = 28 \n",
            " 4  x  8 = 32 \n",
            " 4  x  9 = 36 \n",
            " 4  x  10 = 40 \n",
            " 4  x  11 = 44 \n",
            " 4  x  12 = 48 \n",
            " end inner for mem1 = 4\n"
          ]
        }
      ]
    },
    {
      "cell_type": "markdown",
      "source": [
        "###loop in function"
      ],
      "metadata": {
        "id": "6Ze8zSI5f_Jt"
      }
    },
    {
      "cell_type": "code",
      "source": [
        "def print_grade_loop(name,grade) :\n",
        "        for n,g in zip(name,grade) :\n",
        "            print( f' {n} ได้เกรด {g}' )"
      ],
      "metadata": {
        "id": "OIa8PUfdgDoY"
      },
      "execution_count": null,
      "outputs": []
    },
    {
      "cell_type": "code",
      "source": [
        "print_grade_loop(list_name,list_grade)"
      ],
      "metadata": {
        "colab": {
          "base_uri": "https://localhost:8080/"
        },
        "id": "lKwHCE9ig2i3",
        "outputId": "ae406023-b048-423b-c25b-6e4c987336cc"
      },
      "execution_count": null,
      "outputs": [
        {
          "output_type": "stream",
          "name": "stdout",
          "text": [
            " นางสาวอาทิตยา แสงนิลเกิด ได้เกรด A\n",
            " นางสาวญาดา สรณะสมบูรณ์ ได้เกรด A\n"
          ]
        }
      ]
    },
    {
      "cell_type": "markdown",
      "source": [
        "# Conditional Statement (if)"
      ],
      "metadata": {
        "id": "b_4WkyCZCiF5"
      }
    },
    {
      "cell_type": "markdown",
      "source": [
        "```python\n",
        "if condition1:\n",
        "    do_something() ## ถ้า condition1 เป็นจริง ทำ do_something()\n",
        "elif condition2:\n",
        "        do_another_thing() ## ถ้า condition2 ไม่เป็นจริงแต่ condition2 เป็นจริง ทำ do_another_thing()\n",
        "else: \n",
        "    do_the_last_thing() ## ถ้าไม่มี condition ไหนเป็นจริงเลย ทำ do_the_last_thing()\n",
        "```"
      ],
      "metadata": {
        "id": "QlurO1g9h7jx"
      }
    },
    {
      "cell_type": "code",
      "source": [
        " for n in list_name :\n",
        "     if len(n) > 22:\n",
        "        print( f' {n} ได้เกรด A' )\n",
        "else: \n",
        "        print( f' {n} ได้เกรด F' )"
      ],
      "metadata": {
        "colab": {
          "base_uri": "https://localhost:8080/"
        },
        "id": "FYPzthV-iayr",
        "outputId": "e2fc0e48-9016-4cfb-9c11-4e787eb2c30b"
      },
      "execution_count": null,
      "outputs": [
        {
          "output_type": "stream",
          "name": "stdout",
          "text": [
            " นางสาวอาทิตยา แสงนิลเกิด ได้เกรด A\n",
            " นางสาวญาดา สรณะสมบูรณ์ ได้เกรด F\n"
          ]
        }
      ]
    },
    {
      "cell_type": "markdown",
      "source": [
        "### operator ที่ใช้ตรวจสอบ condition\n",
        "==, !=,  >=, <=, <, >, and, or"
      ],
      "metadata": {
        "id": "gjVffNg2kE-k"
      }
    },
    {
      "cell_type": "code",
      "source": [
        "a =10 == 20\n",
        "print (a)"
      ],
      "metadata": {
        "colab": {
          "base_uri": "https://localhost:8080/"
        },
        "id": "HMuSDARJjv1-",
        "outputId": "632b288a-2fe4-4674-dbb3-338048afb64f"
      },
      "execution_count": null,
      "outputs": [
        {
          "output_type": "stream",
          "name": "stdout",
          "text": [
            "False\n"
          ]
        }
      ]
    },
    {
      "cell_type": "code",
      "source": [
        "b = 15 <= 20\n",
        "print(b)"
      ],
      "metadata": {
        "colab": {
          "base_uri": "https://localhost:8080/"
        },
        "id": "jnunD62gkgRp",
        "outputId": "8cbcb2ca-5cf6-47e8-8d76-aba8d1d3cb3b"
      },
      "execution_count": null,
      "outputs": [
        {
          "output_type": "stream",
          "name": "stdout",
          "text": [
            "True\n"
          ]
        }
      ]
    },
    {
      "cell_type": "code",
      "source": [
        "if a :\n",
        "    print('x') #ไม่ print"
      ],
      "metadata": {
        "id": "pBww9BXeku7t"
      },
      "execution_count": null,
      "outputs": []
    },
    {
      "cell_type": "code",
      "source": [
        "if True:\n",
        "    print('x')"
      ],
      "metadata": {
        "colab": {
          "base_uri": "https://localhost:8080/"
        },
        "id": "W1HhnN6elD78",
        "outputId": "43e753b3-801e-489d-850b-dda823103d24"
      },
      "execution_count": null,
      "outputs": [
        {
          "output_type": "stream",
          "name": "stdout",
          "text": [
            "x\n"
          ]
        }
      ]
    },
    {
      "cell_type": "code",
      "source": [
        "if a and b:\n",
        "    print('x')"
      ],
      "metadata": {
        "id": "uRsOf-5jlIG7"
      },
      "execution_count": null,
      "outputs": []
    },
    {
      "cell_type": "code",
      "source": [
        "if a or b:\n",
        "    print('x')"
      ],
      "metadata": {
        "colab": {
          "base_uri": "https://localhost:8080/"
        },
        "id": "ne2zBE7dlUT6",
        "outputId": "76049b06-4b18-4b71-c080-8e05206a0303"
      },
      "execution_count": null,
      "outputs": [
        {
          "output_type": "stream",
          "name": "stdout",
          "text": [
            "x\n"
          ]
        }
      ]
    },
    {
      "cell_type": "markdown",
      "source": [
        "# HW4\n",
        "\n",
        "เขียน function ตัดเกรด โดยที่่ input เป็นคะแนน(0-100) , output เป็นเกรด (F-A)\n",
        "หรือ 'ไม่สามารถตัดเกรดได้'\n",
        "\n",
        "วนลูปตัดเกรด input = [1,50,65,90,101,-5,49,'ก',80]\n",
        "\n",
        "กำหนด\n",
        "* ถ้าคะแนนอยู่ระหว่างมากกว่าหรือเท่ากับ 0 แต่น้อยกว่า 50 จะได้เกรด F\n",
        "* ถ้าคะแนนอยู่ระหว่างมากกว่าหรือเท่ากับ 50 แต่น้อยกว่า 55 จะได้เกรด D\n",
        "* ถ้าคะแนนอยู่ระหว่างมากกว่าหรือเท่ากับ 55 แต่น้อยกว่า 60 จะได้เกรด D+\n",
        "* ถ้าคะแนนอยู่ระหว่างมากกว่าหรือเท่ากับ 60 แต่น้อยกว่า 65 จะได้เกรด C\n",
        "* ถ้าคะแนนอยู่ระหว่างมากกว่าหรือเท่ากับ 65 แต่น้อยกว่า 70 จะได้เกรด C+\n",
        "* ถ้าคะแนนอยู่ระหว่างมากกว่าหรือเท่ากับ 70 แต่น้อยกว่า 75 จะได้เกรด B\n",
        "* ถ้าคะแนนอยู่ระหว่างมากกว่าหรือเท่ากับ 75 แต่น้อยกว่า 80 จะได้เกรด B+\n",
        "* ถ้าคะแนนอยู่ระหว่างมากกว่าหรือเท่ากับ 80 จะได้เกรด A\n",
        "*ถ้าคะแนนไม่อยู่ในช่วง 0-100 ให้ return 'ไม่สามารถตัดเกรดได้'"
      ],
      "metadata": {
        "id": "7nYRktZZlqv8"
      }
    },
    {
      "cell_type": "code",
      "source": [
        "input = [1,50,65,90,101,-5,49,'ก',80]"
      ],
      "metadata": {
        "id": "gAyXt7kPghlH"
      },
      "execution_count": 8,
      "outputs": []
    },
    {
      "cell_type": "code",
      "source": [
        "print(input)\n",
        "for i in input:\n",
        "    if type(i) == type(\"\"):\n",
        "            print (f'คะแนนเท่ากับ {i} ไม่สามารถตัดเกรดได้')\n",
        "    else:\n",
        "        if i >= 101:\n",
        "            print (f'คะแนนเท่ากับ {i} ไม่สามารถตัดเกรดได้')\n",
        "        elif i >= 80:\n",
        "            print (f'คะแนนเท่ากับ {i} ได้เกรด  A')\n",
        "        elif i >= 75:\n",
        "            print (f'คะแนนเท่ากับ {i} ได้เกรด  B+')\n",
        "        elif i >= 70:\n",
        "            print (f'คะแนนเท่ากับ {i} ได้เกรด  B')\n",
        "        elif i >= 65:\n",
        "            print (f'คะแนนเท่ากับ {i} ได้เกรด  C+')\n",
        "        elif  i >= 60:\n",
        "            print (f'คะแนนเท่ากับ {i} ได้เกรด  C')\n",
        "        elif  i >= 55:\n",
        "            print (f'คะแนนเท่ากับ {i} ได้เกรด  D+')\n",
        "        elif  i >= 50:\n",
        "            print (f'คะแนนเท่ากับ {i} ได้เกรด  D')\n",
        "        elif  i >= 0:\n",
        "            print (f'คะแนนเท่ากับ {i} ได้เกรด  F')\n",
        "        else:\n",
        "            print (f'คะแนนเท่ากับ {i} ไม่สามารถตัดเกรดได้')\n",
        "    print ('................................................................')"
      ],
      "metadata": {
        "colab": {
          "base_uri": "https://localhost:8080/"
        },
        "id": "rx5F71g_hT6p",
        "outputId": "2be620d7-c09d-4b34-c431-dbf2bc98102b"
      },
      "execution_count": 26,
      "outputs": [
        {
          "output_type": "stream",
          "name": "stdout",
          "text": [
            "[1, 50, 65, 90, 101, -5, 49, 'ก', 80]\n",
            "คะแนนเท่ากับ 1 ได้เกรด  F\n",
            "................................................................\n",
            "คะแนนเท่ากับ 50 ได้เกรด  D\n",
            "................................................................\n",
            "คะแนนเท่ากับ 65 ได้เกรด  C+\n",
            "................................................................\n",
            "คะแนนเท่ากับ 90 ได้เกรด  A\n",
            "................................................................\n",
            "คะแนนเท่ากับ 101 ไม่สามารถตัดเกรดได้\n",
            "................................................................\n",
            "คะแนนเท่ากับ -5 ไม่สามารถตัดเกรดได้\n",
            "................................................................\n",
            "คะแนนเท่ากับ 49 ได้เกรด  F\n",
            "................................................................\n",
            "คะแนนเท่ากับ ก ไม่สามารถตัดเกรดได้\n",
            "................................................................\n",
            "คะแนนเท่ากับ 80 ได้เกรด  A\n",
            "................................................................\n"
          ]
        }
      ]
    },
    {
      "cell_type": "code",
      "source": [
        ""
      ],
      "metadata": {
        "id": "nnDapQMNh3kA"
      },
      "execution_count": null,
      "outputs": []
    }
  ]
}