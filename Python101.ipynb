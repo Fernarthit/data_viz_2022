{
  "nbformat": 4,
  "nbformat_minor": 0,
  "metadata": {
    "colab": {
      "name": "Python101.ipynb",
      "provenance": [],
      "authorship_tag": "ABX9TyN2oI5kVnYcA8uK4F7ARphc",
      "include_colab_link": true
    },
    "kernelspec": {
      "name": "python3",
      "display_name": "Python 3"
    },
    "language_info": {
      "name": "python"
    }
  },
  "cells": [
    {
      "cell_type": "markdown",
      "metadata": {
        "id": "view-in-github",
        "colab_type": "text"
      },
      "source": [
        "<a href=\"https://colab.research.google.com/github/Fernarthit/data_viz_2022/blob/main/Python101.ipynb\" target=\"_parent\"><img src=\"https://colab.research.google.com/assets/colab-badge.svg\" alt=\"Open In Colab\"/></a>"
      ]
    },
    {
      "cell_type": "markdown",
      "source": [
        "# ข้อความใหม่ของ Text เป็นภาษา Markdown"
      ],
      "metadata": {
        "id": "DfRi5DA6Is-k"
      }
    },
    {
      "cell_type": "code",
      "source": [
        "'สถิติ' # ' quote"
      ],
      "metadata": {
        "colab": {
          "base_uri": "https://localhost:8080/",
          "height": 37
        },
        "id": "-midPEpBLiFd",
        "outputId": "0b423335-b446-4558-84d2-271d6e77fef4"
      },
      "execution_count": null,
      "outputs": [
        {
          "output_type": "execute_result",
          "data": {
            "application/vnd.google.colaboratory.intrinsic+json": {
              "type": "string"
            },
            "text/plain": [
              "'สถิติ'"
            ]
          },
          "metadata": {},
          "execution_count": 3
        }
      ]
    },
    {
      "cell_type": "code",
      "source": [
        "\"สถิติ\" # \"quote"
      ],
      "metadata": {
        "colab": {
          "base_uri": "https://localhost:8080/",
          "height": 37
        },
        "id": "5sHiXvN-LoeR",
        "outputId": "23b96ba0-f8ca-4ca5-8910-c184fbe43060"
      },
      "execution_count": null,
      "outputs": [
        {
          "output_type": "execute_result",
          "data": {
            "application/vnd.google.colaboratory.intrinsic+json": {
              "type": "string"
            },
            "text/plain": [
              "'สถิติ'"
            ]
          },
          "metadata": {},
          "execution_count": 15
        }
      ]
    },
    {
      "cell_type": "code",
      "source": [
        "vartest1 = 1+3"
      ],
      "metadata": {
        "id": "A8OGzU9fOXMv"
      },
      "execution_count": null,
      "outputs": []
    },
    {
      "cell_type": "code",
      "source": [
        "vartest1"
      ],
      "metadata": {
        "colab": {
          "base_uri": "https://localhost:8080/"
        },
        "id": "qeLNrUShOnrN",
        "outputId": "9046651e-9a47-4ea3-c528-a7235f245619"
      },
      "execution_count": null,
      "outputs": [
        {
          "output_type": "execute_result",
          "data": {
            "text/plain": [
              "4"
            ]
          },
          "metadata": {},
          "execution_count": 7
        }
      ]
    },
    {
      "cell_type": "code",
      "source": [
        "print (vartest1)"
      ],
      "metadata": {
        "colab": {
          "base_uri": "https://localhost:8080/"
        },
        "id": "zB0CUoJIOprh",
        "outputId": "b50dd5f3-97c7-455a-d2a7-6ab65f0af6d6"
      },
      "execution_count": null,
      "outputs": [
        {
          "output_type": "stream",
          "name": "stdout",
          "text": [
            "4\n"
          ]
        }
      ]
    },
    {
      "cell_type": "markdown",
      "source": [
        "## ข้อกำหนดการตั้งชื่อตัวแปร\n",
        "1. ตั้งให้สื่อความหมาย\n",
        "2. เป็นภาษาอังกฤษ\n",
        "3. ใช้ตัวเลขผสมกับตัวหนังสือได้ แต่ห้ามขึ้นต้นด้วยตัวเลข\n",
        "4. ห้ามเว้นวรรคในชื่อตัวแปร\n",
        "5. ตัวใหญ่ ตัวเล็ก มีค่าไม่เท่ากัน\n"
      ],
      "metadata": {
        "id": "jlGnIVSBO07s"
      }
    },
    {
      "cell_type": "markdown",
      "source": [
        "# ad print\n",
        "##(print ตัวแปรร่วมกับข้อความได้)\n",
        "print (f'ข้อความ{code}')"
      ],
      "metadata": {
        "id": "JrF6YUVtQug-"
      }
    },
    {
      "cell_type": "code",
      "source": [
        "print (f'หนึ่ง บวก สอง (1+2) เท่ากับ สาม ({1+2})')"
      ],
      "metadata": {
        "colab": {
          "base_uri": "https://localhost:8080/"
        },
        "id": "VobH6yIGO4k4",
        "outputId": "ac107a70-a463-4937-a19c-e831b7c09bab"
      },
      "execution_count": null,
      "outputs": [
        {
          "output_type": "stream",
          "name": "stdout",
          "text": [
            "หนึ่ง บวก สอง (1+2) เท่ากับ สาม (3)\n"
          ]
        }
      ]
    },
    {
      "cell_type": "code",
      "source": [
        "a = 12\n",
        "b = 2"
      ],
      "metadata": {
        "id": "SU9ZpwsvRXd8"
      },
      "execution_count": null,
      "outputs": []
    },
    {
      "cell_type": "code",
      "source": [
        "print (f'{a}+{b} = {a+b}')"
      ],
      "metadata": {
        "colab": {
          "base_uri": "https://localhost:8080/"
        },
        "id": "dxKpBR3RSkLP",
        "outputId": "1be1e4c1-c56a-4dba-916e-f8b637c89878"
      },
      "execution_count": null,
      "outputs": [
        {
          "output_type": "stream",
          "name": "stdout",
          "text": [
            "1+2 = 3\n"
          ]
        }
      ]
    },
    {
      "cell_type": "code",
      "source": [
        "a = 5\n",
        "b = 2"
      ],
      "metadata": {
        "id": "S9aeM3xOStVs"
      },
      "execution_count": null,
      "outputs": []
    },
    {
      "cell_type": "code",
      "source": [
        "print (f'{a}+{b} = {a+b}')"
      ],
      "metadata": {
        "colab": {
          "base_uri": "https://localhost:8080/"
        },
        "id": "XYaL2U8zSxUe",
        "outputId": "779c6b56-fc47-4148-bba0-eae0b920292d"
      },
      "execution_count": null,
      "outputs": [
        {
          "output_type": "stream",
          "name": "stdout",
          "text": [
            "12+2 = 14\n"
          ]
        }
      ]
    },
    {
      "cell_type": "markdown",
      "source": [
        "# ชนิดของตัวแปร"
      ],
      "metadata": {
        "id": "ge4TF_KTUaX-"
      }
    },
    {
      "cell_type": "markdown",
      "source": [
        "## char (acter) (ตัวอักษร)"
      ],
      "metadata": {
        "id": "eyB0N0F5UyHz"
      }
    },
    {
      "cell_type": "code",
      "source": [
        "a = 'fe'"
      ],
      "metadata": {
        "id": "W8ert6twUvpc"
      },
      "execution_count": null,
      "outputs": []
    },
    {
      "cell_type": "code",
      "source": [
        "b = 'rn'"
      ],
      "metadata": {
        "id": "FvJDW3VbU7FJ"
      },
      "execution_count": null,
      "outputs": []
    },
    {
      "cell_type": "code",
      "source": [
        "print(f'a={a} b={b}, then {a}+{b} = {a+b}')"
      ],
      "metadata": {
        "colab": {
          "base_uri": "https://localhost:8080/"
        },
        "id": "E_y5ONIhVJQZ",
        "outputId": "c12f1541-2cf5-42c4-d932-533041d34058"
      },
      "execution_count": null,
      "outputs": [
        {
          "output_type": "stream",
          "name": "stdout",
          "text": [
            "a=fe b=rn, then fe+rn = fern\n"
          ]
        }
      ]
    },
    {
      "cell_type": "code",
      "source": [
        "A = 'Arthittaya'"
      ],
      "metadata": {
        "id": "_gQ7cuOWVNm5"
      },
      "execution_count": null,
      "outputs": []
    },
    {
      "cell_type": "code",
      "source": [
        "B = ' Saengninkoed'"
      ],
      "metadata": {
        "id": "LZvxuqLEVilZ"
      },
      "execution_count": null,
      "outputs": []
    },
    {
      "cell_type": "code",
      "source": [
        "print (A+B)"
      ],
      "metadata": {
        "colab": {
          "base_uri": "https://localhost:8080/"
        },
        "id": "PWYT6xFJVk5K",
        "outputId": "d962bbc1-747c-44ab-b467-18ceeaff0365"
      },
      "execution_count": null,
      "outputs": [
        {
          "output_type": "stream",
          "name": "stdout",
          "text": [
            "Arthittaya Saengninkoed\n"
          ]
        }
      ]
    },
    {
      "cell_type": "markdown",
      "source": [
        "## int(eger) (จำนวนเต็ม)"
      ],
      "metadata": {
        "id": "QKsayeKLWN97"
      }
    },
    {
      "cell_type": "code",
      "source": [
        "int_x = 1\n",
        "int_y = 3"
      ],
      "metadata": {
        "id": "HC1A31m8VpVJ"
      },
      "execution_count": null,
      "outputs": []
    },
    {
      "cell_type": "code",
      "source": [
        "int_z = int_x + int_y\n",
        "print(int_z)"
      ],
      "metadata": {
        "colab": {
          "base_uri": "https://localhost:8080/"
        },
        "id": "m0sO5qIAWcbK",
        "outputId": "75d1a4fc-4759-48be-f040-25fd499be7a3"
      },
      "execution_count": null,
      "outputs": [
        {
          "output_type": "stream",
          "name": "stdout",
          "text": [
            "4\n"
          ]
        }
      ]
    },
    {
      "cell_type": "markdown",
      "source": [
        "## float (จำนวนจริง ทศนิยม)"
      ],
      "metadata": {
        "id": "yiVCZ7VyXP2C"
      }
    },
    {
      "cell_type": "code",
      "source": [
        "Fl_x = 1.\n",
        "Fl_y = 2.345"
      ],
      "metadata": {
        "id": "pNfWJkGHWoF7"
      },
      "execution_count": null,
      "outputs": []
    },
    {
      "cell_type": "code",
      "source": [
        "Fl_x"
      ],
      "metadata": {
        "colab": {
          "base_uri": "https://localhost:8080/"
        },
        "id": "M2DkINBpXt12",
        "outputId": "c368b288-d443-4ad5-fee7-3f91ee5ca2f9"
      },
      "execution_count": null,
      "outputs": [
        {
          "output_type": "execute_result",
          "data": {
            "text/plain": [
              "1.0"
            ]
          },
          "metadata": {},
          "execution_count": 35
        }
      ]
    },
    {
      "cell_type": "code",
      "source": [
        "print(Fl_x + Fl_y)"
      ],
      "metadata": {
        "colab": {
          "base_uri": "https://localhost:8080/"
        },
        "id": "dOyUTPzcXy7Y",
        "outputId": "65d1ce74-a187-403a-a219-1ac9875c90be"
      },
      "execution_count": null,
      "outputs": [
        {
          "output_type": "stream",
          "name": "stdout",
          "text": [
            "3.345\n"
          ]
        }
      ]
    },
    {
      "cell_type": "markdown",
      "source": [
        "## boolean (ตัวแปรที่มีค่า True หรือ False)"
      ],
      "metadata": {
        "id": "d4xAkjGBZFMt"
      }
    },
    {
      "cell_type": "code",
      "source": [
        "b_T = True"
      ],
      "metadata": {
        "id": "j85XFkgFX4wq"
      },
      "execution_count": null,
      "outputs": []
    },
    {
      "cell_type": "code",
      "source": [
        "b_F = False"
      ],
      "metadata": {
        "id": "PQ24aYqvZtc3"
      },
      "execution_count": null,
      "outputs": []
    },
    {
      "cell_type": "markdown",
      "source": [
        "## complex (จำนวนเชิงซ้อน)"
      ],
      "metadata": {
        "id": "4qumGY4Ub4JR"
      }
    },
    {
      "cell_type": "code",
      "source": [
        "x = 1 + 2j"
      ],
      "metadata": {
        "id": "Hjfz3BkiZzfJ"
      },
      "execution_count": null,
      "outputs": []
    },
    {
      "cell_type": "markdown",
      "source": [
        "### เราสามารถตรวจสอบชนิดของตัวแปรด้วยคำสั่ง type()"
      ],
      "metadata": {
        "id": "XmRZvJGRb-Dk"
      }
    },
    {
      "cell_type": "code",
      "source": [
        "print(f'ตัวแปร x ค่าคือ {x} ชนิด {type(x)}')"
      ],
      "metadata": {
        "colab": {
          "base_uri": "https://localhost:8080/"
        },
        "id": "7h-hKp13cHVV",
        "outputId": "c2df54f9-0bda-4d8f-8c41-bde810b07b10"
      },
      "execution_count": null,
      "outputs": [
        {
          "output_type": "stream",
          "name": "stdout",
          "text": [
            "ตัวแปร x ค่าคือ (1+2j) ชนิด <class 'complex'>\n"
          ]
        }
      ]
    },
    {
      "cell_type": "code",
      "source": [
        "print(f'ตัวแปร A ค่าคือ {A} ชนิด {type(A)}')"
      ],
      "metadata": {
        "colab": {
          "base_uri": "https://localhost:8080/"
        },
        "id": "frtSAaPVcYAM",
        "outputId": "a8f5c5d8-4f7d-467c-a280-5d0d1e365251"
      },
      "execution_count": null,
      "outputs": [
        {
          "output_type": "stream",
          "name": "stdout",
          "text": [
            "ตัวแปร A ค่าคือ Arthittaya ชนิด <class 'str'>\n"
          ]
        }
      ]
    },
    {
      "cell_type": "code",
      "source": [
        "print(f'ตัวแปร a ค่าคือ {a} ชนิด {type(a)}')"
      ],
      "metadata": {
        "colab": {
          "base_uri": "https://localhost:8080/"
        },
        "id": "5ESbRCcVccpv",
        "outputId": "e197bfd7-2b81-4151-df01-48307c472710"
      },
      "execution_count": null,
      "outputs": [
        {
          "output_type": "stream",
          "name": "stdout",
          "text": [
            "ตัวแปร a ค่าคือ fe ชนิด <class 'str'>\n"
          ]
        }
      ]
    },
    {
      "cell_type": "code",
      "source": [
        "type(x)"
      ],
      "metadata": {
        "colab": {
          "base_uri": "https://localhost:8080/"
        },
        "id": "e-elxtAqbfAW",
        "outputId": "ba0aa673-068b-405a-f1e5-bbb7ee5b180f"
      },
      "execution_count": null,
      "outputs": [
        {
          "output_type": "execute_result",
          "data": {
            "text/plain": [
              "complex"
            ]
          },
          "metadata": {},
          "execution_count": 40
        }
      ]
    },
    {
      "cell_type": "markdown",
      "source": [
        "# การแปลงชนิดของตัวแปร (Variable Casting)"
      ],
      "metadata": {
        "id": "rSf-qXzKcwk5"
      }
    },
    {
      "cell_type": "code",
      "source": [
        "print(f'int_x = {int_x} int_y = {int_y} Fl_x = {Fl_x} Fl_y =  {Fl_y}')"
      ],
      "metadata": {
        "colab": {
          "base_uri": "https://localhost:8080/"
        },
        "id": "3lPJFGnbbhS1",
        "outputId": "29942b66-248d-40bf-cf52-6de7f8c4c024"
      },
      "execution_count": null,
      "outputs": [
        {
          "output_type": "stream",
          "name": "stdout",
          "text": [
            "int_x = 1 int_y = 3 Fl_x = 1.0 Fl_y =  2.345\n"
          ]
        }
      ]
    },
    {
      "cell_type": "code",
      "source": [
        "str_x = '1'\n",
        "str_y = '2'"
      ],
      "metadata": {
        "id": "X0CXeIf5dV-g"
      },
      "execution_count": null,
      "outputs": []
    },
    {
      "cell_type": "code",
      "source": [
        "str_x2int = int(str_x)\n",
        "print(f'ตัวแปร str_x2int ค่าคือ {str_x2int} ชนิด {type(str_x2int)}')"
      ],
      "metadata": {
        "colab": {
          "base_uri": "https://localhost:8080/"
        },
        "id": "V_9Cn_ayd6Rk",
        "outputId": "e639bb16-84d4-4f7e-ea22-9c08e1334b12"
      },
      "execution_count": null,
      "outputs": [
        {
          "output_type": "stream",
          "name": "stdout",
          "text": [
            "ตัวแปร str_x2int ค่าคือ 1 ชนิด <class 'int'>\n"
          ]
        }
      ]
    },
    {
      "cell_type": "code",
      "source": [
        "str_x2int + int_x"
      ],
      "metadata": {
        "colab": {
          "base_uri": "https://localhost:8080/"
        },
        "id": "n6ConDuXeE-U",
        "outputId": "7ad6eacf-c386-49e2-cdf5-5a94f4440343"
      },
      "execution_count": null,
      "outputs": [
        {
          "output_type": "execute_result",
          "data": {
            "text/plain": [
              "2"
            ]
          },
          "metadata": {},
          "execution_count": 53
        }
      ]
    },
    {
      "cell_type": "code",
      "source": [
        "str_x + int_x"
      ],
      "metadata": {
        "colab": {
          "base_uri": "https://localhost:8080/",
          "height": 178
        },
        "id": "Xae2yjaFeaoE",
        "outputId": "d84960ee-dbc9-4d63-983e-5fc54a574220"
      },
      "execution_count": null,
      "outputs": [
        {
          "output_type": "error",
          "ename": "TypeError",
          "evalue": "ignored",
          "traceback": [
            "\u001b[0;31m---------------------------------------------------------------------------\u001b[0m",
            "\u001b[0;31mTypeError\u001b[0m                                 Traceback (most recent call last)",
            "\u001b[0;32m<ipython-input-54-e1a6ac7fc62b>\u001b[0m in \u001b[0;36m<module>\u001b[0;34m()\u001b[0m\n\u001b[0;32m----> 1\u001b[0;31m \u001b[0mstr_x\u001b[0m \u001b[0;34m+\u001b[0m \u001b[0mint_x\u001b[0m\u001b[0;34m\u001b[0m\u001b[0;34m\u001b[0m\u001b[0m\n\u001b[0m",
            "\u001b[0;31mTypeError\u001b[0m: can only concatenate str (not \"int\") to str"
          ]
        }
      ]
    },
    {
      "cell_type": "code",
      "source": [
        " int_x + str_x"
      ],
      "metadata": {
        "colab": {
          "base_uri": "https://localhost:8080/",
          "height": 178
        },
        "id": "m8UzKnSTejQk",
        "outputId": "af265dfb-ee74-4f8a-bfdc-13646b4680b5"
      },
      "execution_count": null,
      "outputs": [
        {
          "output_type": "error",
          "ename": "TypeError",
          "evalue": "ignored",
          "traceback": [
            "\u001b[0;31m---------------------------------------------------------------------------\u001b[0m",
            "\u001b[0;31mTypeError\u001b[0m                                 Traceback (most recent call last)",
            "\u001b[0;32m<ipython-input-55-2bd7942a3ba8>\u001b[0m in \u001b[0;36m<module>\u001b[0;34m()\u001b[0m\n\u001b[0;32m----> 1\u001b[0;31m \u001b[0mint_x\u001b[0m \u001b[0;34m+\u001b[0m \u001b[0mstr_x\u001b[0m\u001b[0;34m\u001b[0m\u001b[0;34m\u001b[0m\u001b[0m\n\u001b[0m",
            "\u001b[0;31mTypeError\u001b[0m: unsupported operand type(s) for +: 'int' and 'str'"
          ]
        }
      ]
    },
    {
      "cell_type": "code",
      "source": [
        "int(Fl_x)"
      ],
      "metadata": {
        "colab": {
          "base_uri": "https://localhost:8080/"
        },
        "id": "dvadn0rQeosW",
        "outputId": "ddea935a-ab7d-4d93-b3bc-cad4c4091b11"
      },
      "execution_count": null,
      "outputs": [
        {
          "output_type": "execute_result",
          "data": {
            "text/plain": [
              "1"
            ]
          },
          "metadata": {},
          "execution_count": 56
        }
      ]
    },
    {
      "cell_type": "code",
      "source": [
        "float(int_x)"
      ],
      "metadata": {
        "colab": {
          "base_uri": "https://localhost:8080/"
        },
        "id": "SFSrojRzfPRG",
        "outputId": "32a4f96a-f472-4b7d-dc01-4ce2809ad41d"
      },
      "execution_count": null,
      "outputs": [
        {
          "output_type": "execute_result",
          "data": {
            "text/plain": [
              "1.0"
            ]
          },
          "metadata": {},
          "execution_count": 57
        }
      ]
    },
    {
      "cell_type": "code",
      "source": [
        "str(Fl_y)"
      ],
      "metadata": {
        "colab": {
          "base_uri": "https://localhost:8080/",
          "height": 37
        },
        "id": "8Suij5nlfn3k",
        "outputId": "d1075349-3c72-41f3-d5a7-a4990371781f"
      },
      "execution_count": null,
      "outputs": [
        {
          "output_type": "execute_result",
          "data": {
            "application/vnd.google.colaboratory.intrinsic+json": {
              "type": "string"
            },
            "text/plain": [
              "'2.345'"
            ]
          },
          "metadata": {},
          "execution_count": 58
        }
      ]
    },
    {
      "cell_type": "markdown",
      "source": [
        "# Operation เอาตัวแปรสองตัวมาทำอะไรกัน\n",
        "## operators (+,-,*,/,%,&|)"
      ],
      "metadata": {
        "id": "hdbAuZTvgKFc"
      }
    },
    {
      "cell_type": "code",
      "source": [
        "Fl_x + int_y"
      ],
      "metadata": {
        "colab": {
          "base_uri": "https://localhost:8080/"
        },
        "id": "PcnsvZLufv0j",
        "outputId": "7fe0a529-ec66-4c6f-bda2-cb9eb2ff5dd9"
      },
      "execution_count": null,
      "outputs": [
        {
          "output_type": "execute_result",
          "data": {
            "text/plain": [
              "4.0"
            ]
          },
          "metadata": {},
          "execution_count": 59
        }
      ]
    },
    {
      "cell_type": "code",
      "source": [
        "9%2 # หารแล้วเหลือเศษ"
      ],
      "metadata": {
        "colab": {
          "base_uri": "https://localhost:8080/"
        },
        "id": "27CLS05-gzUx",
        "outputId": "7ac83a89-1448-475c-ada2-7fc7ba940645"
      },
      "execution_count": null,
      "outputs": [
        {
          "output_type": "execute_result",
          "data": {
            "text/plain": [
              "1"
            ]
          },
          "metadata": {},
          "execution_count": 61
        }
      ]
    },
    {
      "cell_type": "code",
      "source": [
        "8%2"
      ],
      "metadata": {
        "colab": {
          "base_uri": "https://localhost:8080/"
        },
        "id": "nZGuSdF_hCDC",
        "outputId": "69862bd2-8408-40d7-81bd-4b97515d9f46"
      },
      "execution_count": null,
      "outputs": [
        {
          "output_type": "execute_result",
          "data": {
            "text/plain": [
              "0"
            ]
          },
          "metadata": {},
          "execution_count": 62
        }
      ]
    },
    {
      "cell_type": "code",
      "source": [
        "int_x / int_y"
      ],
      "metadata": {
        "colab": {
          "base_uri": "https://localhost:8080/"
        },
        "id": "6z1WT97-hXRj",
        "outputId": "ed712d8a-58bc-4879-c91e-2d86a33c3ebe"
      },
      "execution_count": null,
      "outputs": [
        {
          "output_type": "execute_result",
          "data": {
            "text/plain": [
              "0.3333333333333333"
            ]
          },
          "metadata": {},
          "execution_count": 65
        }
      ]
    },
    {
      "cell_type": "code",
      "source": [
        "False & True"
      ],
      "metadata": {
        "colab": {
          "base_uri": "https://localhost:8080/"
        },
        "id": "Jt7xAY82hswC",
        "outputId": "e7456694-3b24-4d0b-dbcf-225db8f8645b"
      },
      "execution_count": null,
      "outputs": [
        {
          "output_type": "execute_result",
          "data": {
            "text/plain": [
              "False"
            ]
          },
          "metadata": {},
          "execution_count": 66
        }
      ]
    },
    {
      "cell_type": "code",
      "source": [
        "False & False"
      ],
      "metadata": {
        "colab": {
          "base_uri": "https://localhost:8080/"
        },
        "id": "qVbEyf-EiDRS",
        "outputId": "12526f70-7347-4548-c0f6-8c4b2879c900"
      },
      "execution_count": null,
      "outputs": [
        {
          "output_type": "execute_result",
          "data": {
            "text/plain": [
              "False"
            ]
          },
          "metadata": {},
          "execution_count": 68
        }
      ]
    },
    {
      "cell_type": "code",
      "source": [
        "False | True"
      ],
      "metadata": {
        "colab": {
          "base_uri": "https://localhost:8080/"
        },
        "id": "t2nPH6PJiGCz",
        "outputId": "1b7af4d2-5e22-46a1-c67a-f8f1bf83a66f"
      },
      "execution_count": null,
      "outputs": [
        {
          "output_type": "execute_result",
          "data": {
            "text/plain": [
              "True"
            ]
          },
          "metadata": {},
          "execution_count": 69
        }
      ]
    },
    {
      "cell_type": "markdown",
      "source": [
        "# String operations"
      ],
      "metadata": {
        "id": "zgPgivDuigKk"
      }
    },
    {
      "cell_type": "markdown",
      "source": [
        "+ -> concat, * -> repeat"
      ],
      "metadata": {
        "id": "WzVHDU380_XE"
      }
    },
    {
      "cell_type": "code",
      "source": [
        "st_test1 = 'Department of Statistics, '\n",
        "st_test2 = 'Faculty of Science'"
      ],
      "metadata": {
        "id": "3-qXuLCBia_j"
      },
      "execution_count": 1,
      "outputs": []
    },
    {
      "cell_type": "code",
      "source": [
        "print(10* 't')"
      ],
      "metadata": {
        "colab": {
          "base_uri": "https://localhost:8080/"
        },
        "id": "njAdaRUR1svC",
        "outputId": "ee4b5560-940e-4e01-c6c4-bebc41258c64"
      },
      "execution_count": 2,
      "outputs": [
        {
          "output_type": "stream",
          "name": "stdout",
          "text": [
            "tttttttttt\n"
          ]
        }
      ]
    },
    {
      "cell_type": "code",
      "source": [
        "print(3*st_test1)"
      ],
      "metadata": {
        "colab": {
          "base_uri": "https://localhost:8080/"
        },
        "id": "QAyDjbPV1yAG",
        "outputId": "445cf4c9-9dfd-4f23-ebad-281e616abb89"
      },
      "execution_count": 4,
      "outputs": [
        {
          "output_type": "stream",
          "name": "stdout",
          "text": [
            "Department of Statistics, Department of Statistics, Department of Statistics, \n"
          ]
        }
      ]
    },
    {
      "cell_type": "markdown",
      "source": [
        "#replace() แทนที่ string"
      ],
      "metadata": {
        "id": "_SWAC46G17Gw"
      }
    },
    {
      "cell_type": "code",
      "source": [
        "st_test1.replace('e', '  ')"
      ],
      "metadata": {
        "colab": {
          "base_uri": "https://localhost:8080/",
          "height": 37
        },
        "id": "8gErYl0d13zm",
        "outputId": "ac2c4a6d-fca4-4a2a-b431-6eb9d994fcb5"
      },
      "execution_count": 7,
      "outputs": [
        {
          "output_type": "execute_result",
          "data": {
            "application/vnd.google.colaboratory.intrinsic+json": {
              "type": "string"
            },
            "text/plain": [
              "'D  partm  nt of Statistics, '"
            ]
          },
          "metadata": {},
          "execution_count": 7
        }
      ]
    },
    {
      "cell_type": "code",
      "source": [
        "st_test1.replace('e', '')"
      ],
      "metadata": {
        "colab": {
          "base_uri": "https://localhost:8080/",
          "height": 37
        },
        "id": "Lo9peMER2lj0",
        "outputId": "f58de23b-5b02-4612-933b-0b914b3ecac1"
      },
      "execution_count": 12,
      "outputs": [
        {
          "output_type": "execute_result",
          "data": {
            "application/vnd.google.colaboratory.intrinsic+json": {
              "type": "string"
            },
            "text/plain": [
              "'Dpartmnt of Statistics, '"
            ]
          },
          "metadata": {},
          "execution_count": 12
        }
      ]
    },
    {
      "cell_type": "code",
      "source": [
        "st_test1"
      ],
      "metadata": {
        "colab": {
          "base_uri": "https://localhost:8080/",
          "height": 37
        },
        "id": "wk4OBBVT2-_T",
        "outputId": "98cf81ea-a2bc-4a16-fd06-0163fe84632c"
      },
      "execution_count": 9,
      "outputs": [
        {
          "output_type": "execute_result",
          "data": {
            "application/vnd.google.colaboratory.intrinsic+json": {
              "type": "string"
            },
            "text/plain": [
              "'Department of Statistics, '"
            ]
          },
          "metadata": {},
          "execution_count": 9
        }
      ]
    },
    {
      "cell_type": "code",
      "source": [
        " 'Department of Statistics,   '.replace ('a', 'x')"
      ],
      "metadata": {
        "colab": {
          "base_uri": "https://localhost:8080/",
          "height": 37
        },
        "id": "7XCwA15Q3O0n",
        "outputId": "c84c018d-3717-470a-a79c-84def3482247"
      },
      "execution_count": 11,
      "outputs": [
        {
          "output_type": "execute_result",
          "data": {
            "application/vnd.google.colaboratory.intrinsic+json": {
              "type": "string"
            },
            "text/plain": [
              "'Depxrtment of Stxtistics,   '"
            ]
          },
          "metadata": {},
          "execution_count": 11
        }
      ]
    },
    {
      "cell_type": "markdown",
      "source": [
        "#split() แยก string"
      ],
      "metadata": {
        "id": "56EIpeyC3wO2"
      }
    },
    {
      "cell_type": "code",
      "source": [
        "'a b c d e f g'.split()"
      ],
      "metadata": {
        "colab": {
          "base_uri": "https://localhost:8080/"
        },
        "id": "k_Nw6L033mqZ",
        "outputId": "59978981-1bd9-47d5-9dca-3ae8b734d387"
      },
      "execution_count": 21,
      "outputs": [
        {
          "output_type": "execute_result",
          "data": {
            "text/plain": [
              "['a', 'b', 'c', 'd', 'e', 'f', 'g']"
            ]
          },
          "metadata": {},
          "execution_count": 21
        }
      ]
    },
    {
      "cell_type": "code",
      "source": [
        "'a,b/c,d e/f g'.split('/')"
      ],
      "metadata": {
        "colab": {
          "base_uri": "https://localhost:8080/"
        },
        "id": "XbUwN73A4BmH",
        "outputId": "b759cf9c-1f23-42e6-83f6-3c084ee4e7c8"
      },
      "execution_count": 20,
      "outputs": [
        {
          "output_type": "execute_result",
          "data": {
            "text/plain": [
              "['a,b', 'c,d e', 'f g']"
            ]
          },
          "metadata": {},
          "execution_count": 20
        }
      ]
    },
    {
      "cell_type": "code",
      "source": [
        ""
      ],
      "metadata": {
        "id": "oO2wDuIE4dLp"
      },
      "execution_count": null,
      "outputs": []
    }
  ]
}